{
  "nbformat": 4,
  "nbformat_minor": 0,
  "metadata": {
    "colab": {
      "name": "Copy of Lab_4_1_MNIST with ANN.ipynb",
      "provenance": [],
      "collapsed_sections": []
    },
    "kernelspec": {
      "name": "python3",
      "display_name": "Python 3"
    },
    "accelerator": "GPU"
  },
  "cells": [
    {
      "cell_type": "markdown",
      "metadata": {
        "id": "OtEVSXsCIycs",
        "colab_type": "text"
      },
      "source": [
        "# Handwritten Digit Recognition using a Neural Network\n",
        "\n",
        "In this lab, we're going to train a very simple neural network to recognise hardwritten digits. We're going to use the MNIST database of handwritten digits - http://yann.lecun.com/exdb/mnist/\n",
        "\n",
        "We will use the Keras API for TensorFlow 2 in this exmaple, along with NumPy, the Python library for multi-dimensional numerical computing.\n",
        "\n",
        "Let's now import TensorFlow 2 and NumPy into our Python runtime."
      ]
    },
    {
      "cell_type": "code",
      "metadata": {
        "id": "eOb5kfVYIywp",
        "colab_type": "code",
        "colab": {
          "base_uri": "https://localhost:8080/",
          "height": 34
        },
        "outputId": "6eb7514c-a3d4-48fa-e669-a80969804d2e"
      },
      "source": [
        "%tensorflow_version 2.x\n",
        "import tensorflow as tf\n",
        "\n",
        "import numpy as np"
      ],
      "execution_count": 1,
      "outputs": [
        {
          "output_type": "stream",
          "text": [
            "TensorFlow 2.x selected.\n"
          ],
          "name": "stdout"
        }
      ]
    },
    {
      "cell_type": "markdown",
      "metadata": {
        "id": "2rBg98xZGQBE",
        "colab_type": "text"
      },
      "source": [
        "\n",
        "To ensure these labs run as fast as possible, from the menu above select **Edit > Notebook settings** or **Runtime > Change runtime type** and select GPU as the Hardware accelerator option.\n",
        "\n",
        "Let's test that we are running using the GPU. "
      ]
    },
    {
      "cell_type": "code",
      "metadata": {
        "id": "3ylv348BGS-0",
        "colab_type": "code",
        "colab": {
          "base_uri": "https://localhost:8080/",
          "height": 34
        },
        "outputId": "e48dd706-675e-4425-fb87-f18fb5a9ee72"
      },
      "source": [
        "tf.test.gpu_device_name()"
      ],
      "execution_count": 2,
      "outputs": [
        {
          "output_type": "execute_result",
          "data": {
            "text/plain": [
              "'/device:GPU:0'"
            ]
          },
          "metadata": {
            "tags": []
          },
          "execution_count": 2
        }
      ]
    },
    {
      "cell_type": "markdown",
      "metadata": {
        "id": "DYTUaEdVG5l9",
        "colab_type": "text"
      },
      "source": [
        "**If** this outputs '', then we are running on CPU only. If it outputs something like '/device:GPU:0' then we are running on GPU. If you see something like ...\n",
        "\n",
        "    Failed to assign a backend\n",
        "    No backend with GPU available. WOuld you like to use a runtime with no accelerator?\n",
        "\n",
        "This suggests that many other users have all the GPU resources on colab occupied at the moment, so perhaps try later or try using with the TPU instead."
      ]
    },
    {
      "cell_type": "markdown",
      "metadata": {
        "id": "oiVH2wQBH5gY",
        "colab_type": "text"
      },
      "source": [
        "## Loading our Sample Data\n",
        "\n",
        "We're going to next download and load the MNIST database of handwritten digits, using TF2.0/Keras helper functions.  \n",
        "\n",
        "This database is already conveniently split into labelled training and test sets for us - there are 60,000 training examples, and 10,000 test examples.\n",
        "\n",
        "We're going to further split the 10,000 test examples into 5,000 test set examples and 5,000 validation set examples."
      ]
    },
    {
      "cell_type": "code",
      "metadata": {
        "id": "hqo7XSM1G8Iz",
        "colab_type": "code",
        "colab": {
          "base_uri": "https://localhost:8080/",
          "height": 85
        },
        "outputId": "0e2263a0-156a-4eec-d3b0-341caa7a3834"
      },
      "source": [
        "mnist = tf.keras.datasets.mnist\n",
        "(x_train, y_train), (x_test, y_test) = mnist.load_data()\n",
        "\n",
        "print(\"%d training examples, %d test examples by default\" % (len(x_train), len(x_test)))\n",
        "# We'll split our test data into test plus validation sets\n",
        "\n",
        "x_val = x_test[-5000:]\n",
        "y_val = y_test[-5000:]\n",
        "\n",
        "x_test = x_test[:-5000]\n",
        "y_test = y_test[:-5000]\n",
        "\n",
        "print(\"After splitting into test and validation sets, we have %d test examples and %d validation examples\" % (len(x_test), len(x_val)))"
      ],
      "execution_count": 3,
      "outputs": [
        {
          "output_type": "stream",
          "text": [
            "Downloading data from https://storage.googleapis.com/tensorflow/tf-keras-datasets/mnist.npz\n",
            "11493376/11490434 [==============================] - 0s 0us/step\n",
            "60000 training examples, 10000 test examples by default\n",
            "After splitting into test and validation sets, we have 5000 test examples and 5000 validation examples\n"
          ],
          "name": "stdout"
        }
      ]
    },
    {
      "cell_type": "markdown",
      "metadata": {
        "id": "HGYrFwuUV68N",
        "colab_type": "text"
      },
      "source": [
        "Let's look at one of these examples - let's say `x_train[0]`..."
      ]
    },
    {
      "cell_type": "code",
      "metadata": {
        "id": "EHSFA0KFV7TI",
        "colab_type": "code",
        "colab": {
          "base_uri": "https://localhost:8080/",
          "height": 298
        },
        "outputId": "19b45181-a156-4165-a658-1d35e0819ed7"
      },
      "source": [
        "import matplotlib.pyplot as plt\n",
        "# this next line is just Jupyter Notebook magic to plot inline in the webpage...\n",
        "%matplotlib inline \n",
        "\n",
        "exemplar_index = 0\n",
        "\n",
        "plt.imshow(x_train[exemplar_index])\n",
        "plt.title(\"Training Example 0 has label \" + str(y_train[exemplar_index]))"
      ],
      "execution_count": 4,
      "outputs": [
        {
          "output_type": "execute_result",
          "data": {
            "text/plain": [
              "Text(0.5, 1.0, 'Training Example 0 has label 5')"
            ]
          },
          "metadata": {
            "tags": []
          },
          "execution_count": 4
        },
        {
          "output_type": "display_data",
          "data": {
            "image/png": "[encoded data removed]",
            "text/plain": [
              "<Figure size 432x288 with 1 Axes>"
            ]
          },
          "metadata": {
            "tags": []
          }
        }
      ]
    },
    {
      "cell_type": "markdown",
      "metadata": {
        "id": "1Vk2zWp2JL_O",
        "colab_type": "text"
      },
      "source": [
        "You can change the value of variable `exemplar_index` above and re-run the cell to see the data in the training set and its associated ground truth label.\n",
        "\n",
        "With MNIST, the examples are stored in a simple file format of pixels, where 0 means background and 255 means foreground. We're next going to scale our input to be in the range of 0.0 to 1.0 by dividing by 255.\n",
        "\n",
        "This achieves two things - it takes our precision from integer to 32-bit float, and it also scales our input data so that our default learning rate (and other hyperparameters) will work well.  This step is not necessary, but it does help speed things up.\n",
        "\n",
        "Remember, if you do pre-scaling like this on your training data, you must perform the same steps to any data prior to attempting prediction on it. "
      ]
    },
    {
      "cell_type": "code",
      "metadata": {
        "id": "b_GAx42fHL0M",
        "colab_type": "code",
        "colab": {}
      },
      "source": [
        "x_train, x_test, x_val = x_train/255.0, x_test / 255.0, x_val / 255.0"
      ],
      "execution_count": 0,
      "outputs": []
    },
    {
      "cell_type": "markdown",
      "metadata": {
        "id": "Mo4HoXgKYRai",
        "colab_type": "text"
      },
      "source": [
        "## Creating and Configuring our Model\n",
        "\n",
        "We're create a few variables that can be used to store important model parameters and hyper parameters for modification layer on."
      ]
    },
    {
      "cell_type": "code",
      "metadata": {
        "id": "cXvucgRVYasr",
        "colab_type": "code",
        "colab": {}
      },
      "source": [
        "num_epochs = 10\n",
        "dropout_rate = 0.3"
      ],
      "execution_count": 0,
      "outputs": []
    },
    {
      "cell_type": "markdown",
      "metadata": {
        "id": "x4zlR04_Yf1A",
        "colab_type": "text"
      },
      "source": [
        "Now, we will create our fully connected neural network model. This isn't a convolutional model, but a fully connected model, and as you'll see it is quite simple - with only a few layers, and approximately 100,000 trainable parameters. \n"
      ]
    },
    {
      "cell_type": "code",
      "metadata": {
        "id": "de4CRcVlHVhf",
        "colab_type": "code",
        "colab": {}
      },
      "source": [
        "model = tf.keras.models.Sequential([\n",
        "  # our input layer will take 28x28 images, and \"flatten\" them to 784x1\n",
        "  tf.keras.layers.Flatten(input_shape=(28, 28), name=\"flatten\"), \n",
        "\n",
        "  # next, we'll have a densely connected layer using ReLU as its activation function\n",
        "  tf.keras.layers.Dense(128, activation='relu', name=\"fc_with_ReLU\"), \n",
        "\n",
        "  # we'll add some dropout, which is a form of regularisation - \n",
        "  # you can experiment with removing this and seeing what difference it makes\n",
        "  #tf.keras.layers.Dropout(dropout_rate, name=\"dropout\"), \n",
        "\n",
        "  # finally, a densely connected layer with softmax as a classifier\n",
        "  tf.keras.layers.Dense(10, activation='softmax', name=\"fc_softmax_classifier\")\n",
        "])\n"
      ],
      "execution_count": 0,
      "outputs": []
    },
    {
      "cell_type": "markdown",
      "metadata": {
        "id": "cpOb2bMBQyBP",
        "colab_type": "text"
      },
      "source": [
        "You can find out more about the types of layers supported in the Keras API at https://keras.io/layers/core/\n",
        "\n",
        "Let's have a quick look at the model we just created..."
      ]
    },
    {
      "cell_type": "code",
      "metadata": {
        "id": "e6-mVOBFQ0LH",
        "colab_type": "code",
        "colab": {
          "base_uri": "https://localhost:8080/",
          "height": 641
        },
        "outputId": "6343c25c-9867-453b-e977-1ee150f2938e"
      },
      "source": [
        "print(model.summary(), '\\n')\n",
        "\n",
        "tf.keras.utils.plot_model(model)\n"
      ],
      "execution_count": 44,
      "outputs": [
        {
          "output_type": "stream",
          "text": [
            "Model: \"sequential_3\"\n",
            "_________________________________________________________________\n",
            "Layer (type)                 Output Shape              Param #   \n",
            "=================================================================\n",
            "flatten (Flatten)            (None, 784)               0         \n",
            "_________________________________________________________________\n",
            "fc_with_ReLU (Dense)         (None, 128)               100480    \n",
            "_________________________________________________________________\n",
            "fc_softmax_classifier (Dense (None, 10)                1290      \n",
            "=================================================================\n",
            "Total params: 101,770\n",
            "Trainable params: 101,770\n",
            "Non-trainable params: 0\n",
            "_________________________________________________________________\n",
            "None \n",
            "\n"
          ],
          "name": "stdout"
        },
        {
          "output_type": "execute_result",
          "data": {
            "image/png": "[encoded data removed]",
            "text/plain": [
              "<IPython.core.display.Image object>"
            ]
          },
          "metadata": {
            "tags": []
          },
          "execution_count": 44
        }
      ]
    },
    {
      "cell_type": "markdown",
      "metadata": {
        "id": "bupzYhxCQ1Dl",
        "colab_type": "text"
      },
      "source": [
        "## Training our Model\n",
        "\n",
        "Okay, now time to compile the model, and to training it.\n",
        "\n",
        "Compiling, in Keras, configures the model for training - it defines the loss function, the optimizer and metrics. \n",
        "\n",
        "It doesn't affect or modify the weights, and you can compile a model as often as you want without affecting pretrained weights.\n"
      ]
    },
    {
      "cell_type": "code",
      "metadata": {
        "id": "tN2Q8zCvHbp2",
        "colab_type": "code",
        "colab": {}
      },
      "source": [
        "model.compile(optimizer='adam',\n",
        "              loss='sparse_categorical_crossentropy',\n",
        "              metrics=['accuracy'])"
      ],
      "execution_count": 0,
      "outputs": []
    },
    {
      "cell_type": "markdown",
      "metadata": {
        "id": "j1RauElzUBO4",
        "colab_type": "text"
      },
      "source": [
        "Just before we training our model (\"fit\" it to our data), it will be initialised with random weights. Let's see how it performs against our training data *before* we train it..."
      ]
    },
    {
      "cell_type": "code",
      "metadata": {
        "id": "NFQs4OMKUITk",
        "colab_type": "code",
        "colab": {
          "base_uri": "https://localhost:8080/",
          "height": 51
        },
        "outputId": "ef003789-b818-420e-a37b-386e2a18db86"
      },
      "source": [
        "model.evaluate(x_train,  y_train, verbose=2)"
      ],
      "execution_count": 46,
      "outputs": [
        {
          "output_type": "stream",
          "text": [
            "60000/1 - 4s - loss: 2.3913 - accuracy: 0.1276\n"
          ],
          "name": "stdout"
        },
        {
          "output_type": "execute_result",
          "data": {
            "text/plain": [
              "[2.3761175472259524, 0.1276]"
            ]
          },
          "metadata": {
            "tags": []
          },
          "execution_count": 46
        }
      ]
    },
    {
      "cell_type": "markdown",
      "metadata": {
        "id": "1Y0Ua1ZkUL0P",
        "colab_type": "text"
      },
      "source": [
        "Not terribly impressive - but that is just from random weight assigments. Let's now optimize our weights to improve our prediction score against our training data and see what happens."
      ]
    },
    {
      "cell_type": "code",
      "metadata": {
        "id": "hNvWzT8RHeUP",
        "colab_type": "code",
        "colab": {
          "base_uri": "https://localhost:8080/",
          "height": 394
        },
        "outputId": "22c98f6e-9571-483f-eb91-afc4ade8d046"
      },
      "source": [
        "history = model.fit(x_train, y_train, validation_data = (x_val, y_val), epochs=num_epochs, shuffle=True)"
      ],
      "execution_count": 47,
      "outputs": [
        {
          "output_type": "stream",
          "text": [
            "Train on 60000 samples, validate on 5000 samples\n",
            "Epoch 1/10\n",
            "60000/60000 [==============================] - 6s 107us/sample - loss: 0.2570 - accuracy: 0.9260 - val_loss: 0.0901 - val_accuracy: 0.9752\n",
            "Epoch 2/10\n",
            "60000/60000 [==============================] - 6s 101us/sample - loss: 0.1110 - accuracy: 0.9671 - val_loss: 0.0681 - val_accuracy: 0.9802\n",
            "Epoch 3/10\n",
            "60000/60000 [==============================] - 6s 102us/sample - loss: 0.0770 - accuracy: 0.9766 - val_loss: 0.0527 - val_accuracy: 0.9830\n",
            "Epoch 4/10\n",
            "60000/60000 [==============================] - 6s 102us/sample - loss: 0.0579 - accuracy: 0.9821 - val_loss: 0.0506 - val_accuracy: 0.9856\n",
            "Epoch 5/10\n",
            "60000/60000 [==============================] - 6s 102us/sample - loss: 0.0441 - accuracy: 0.9867 - val_loss: 0.0586 - val_accuracy: 0.9828\n",
            "Epoch 6/10\n",
            "60000/60000 [==============================] - 6s 102us/sample - loss: 0.0357 - accuracy: 0.9886 - val_loss: 0.0453 - val_accuracy: 0.9872\n",
            "Epoch 7/10\n",
            "60000/60000 [==============================] - 6s 101us/sample - loss: 0.0282 - accuracy: 0.9913 - val_loss: 0.0536 - val_accuracy: 0.9834\n",
            "Epoch 8/10\n",
            "60000/60000 [==============================] - 6s 100us/sample - loss: 0.0228 - accuracy: 0.9933 - val_loss: 0.0455 - val_accuracy: 0.9878\n",
            "Epoch 9/10\n",
            "60000/60000 [==============================] - 6s 100us/sample - loss: 0.0196 - accuracy: 0.9938 - val_loss: 0.0422 - val_accuracy: 0.9872\n",
            "Epoch 10/10\n",
            "60000/60000 [==============================] - 6s 108us/sample - loss: 0.0161 - accuracy: 0.9950 - val_loss: 0.0505 - val_accuracy: 0.9880\n"
          ],
          "name": "stdout"
        }
      ]
    },
    {
      "cell_type": "markdown",
      "metadata": {
        "id": "9b5z0DZFslTe",
        "colab_type": "text"
      },
      "source": [
        "In the dictionary variable `history`, we have a record of the training and test set "
      ]
    },
    {
      "cell_type": "code",
      "metadata": {
        "id": "yFlP82BzsGkZ",
        "colab_type": "code",
        "colab": {
          "base_uri": "https://localhost:8080/",
          "height": 34
        },
        "outputId": "d8110ca4-d159-4901-d40e-0b70423d56a7"
      },
      "source": [
        "print(history.history.keys())"
      ],
      "execution_count": 48,
      "outputs": [
        {
          "output_type": "stream",
          "text": [
            "dict_keys(['loss', 'accuracy', 'val_loss', 'val_accuracy'])\n"
          ],
          "name": "stdout"
        }
      ]
    },
    {
      "cell_type": "markdown",
      "metadata": {
        "id": "UWcxLyN2SnGr",
        "colab_type": "text"
      },
      "source": [
        "# Evaluating the Performance of our Trained Model against our Validation Set\n",
        "\n",
        "Okay, let's now see how well our trained model works on our validation set."
      ]
    },
    {
      "cell_type": "code",
      "metadata": {
        "id": "chlg2_6RSnXy",
        "colab_type": "code",
        "colab": {
          "base_uri": "https://localhost:8080/",
          "height": 51
        },
        "outputId": "2911cdf1-ddaf-4456-8178-f9b720e63cc7"
      },
      "source": [
        "model.evaluate(x_val,  y_val, verbose=2)"
      ],
      "execution_count": 49,
      "outputs": [
        {
          "output_type": "stream",
          "text": [
            "5000/1 - 0s - loss: 0.0252 - accuracy: 0.9880\n"
          ],
          "name": "stdout"
        },
        {
          "output_type": "execute_result",
          "data": {
            "text/plain": [
              "[0.050485685496308726, 0.988]"
            ]
          },
          "metadata": {
            "tags": []
          },
          "execution_count": 49
        }
      ]
    },
    {
      "cell_type": "markdown",
      "metadata": {
        "id": "56kXvh0sbJWZ",
        "colab_type": "text"
      },
      "source": [
        "At this point, consider going back and changing the `num_epochs` from 5 to, say, 25 and repeating the exercise.  Does our model look like it is overfitting at any point?\n",
        "\n",
        "Or changing the `dropout_rate` from 0.2 to, say, 0.1 or 0.3."
      ]
    },
    {
      "cell_type": "markdown",
      "metadata": {
        "id": "cRLWymupbdTP",
        "colab_type": "text"
      },
      "source": [
        "## Evaluating the Performance against our Test Set\n",
        "\n",
        "We reserved our test set to better understand the impact our training and hyper parameter experiments had in generalising to unseen data. We can now evaluate our performance against our test set.\n",
        "\n",
        "We can evaluate our model against our test set and get a figure for overall accuracy."
      ]
    },
    {
      "cell_type": "code",
      "metadata": {
        "id": "AgbG5eugbLBI",
        "colab_type": "code",
        "colab": {
          "base_uri": "https://localhost:8080/",
          "height": 51
        },
        "outputId": "d52e51d0-c556-4ca4-aee5-505857dbda58"
      },
      "source": [
        "model.evaluate(x_test, y_test, verbose=2)\n"
      ],
      "execution_count": 50,
      "outputs": [
        {
          "output_type": "stream",
          "text": [
            "5000/1 - 0s - loss: 0.1731 - accuracy: 0.9672\n"
          ],
          "name": "stdout"
        },
        {
          "output_type": "execute_result",
          "data": {
            "text/plain": [
              "[0.11411939465068281, 0.9672]"
            ]
          },
          "metadata": {
            "tags": []
          },
          "execution_count": 50
        }
      ]
    },
    {
      "cell_type": "markdown",
      "metadata": {
        "id": "Q8V-ASaluBh0",
        "colab_type": "text"
      },
      "source": [
        "\n",
        "We can also plot our history from training, and view our training curves - that is, the record of our training set accuracy/loss vs our test set accuracy/loss per epoch."
      ]
    },
    {
      "cell_type": "code",
      "metadata": {
        "id": "G7BaqD6buBvK",
        "colab_type": "code",
        "colab": {
          "base_uri": "https://localhost:8080/",
          "height": 573
        },
        "outputId": "44650606-9561-46f8-c195-6bccbbf4d0a3"
      },
      "source": [
        "plt.plot(history.history['accuracy'])\n",
        "plt.plot(history.history['val_accuracy'])\n",
        "plt.title('Model Accuracy')\n",
        "plt.ylabel('accuracy')\n",
        "plt.xlabel('epoch')\n",
        "plt.legend(['train', 'test'])\n",
        "plt.show()\n",
        "\n",
        "plt.plot(history.history['loss'])\n",
        "plt.plot(history.history['val_loss'])\n",
        "plt.title('Model Loss')\n",
        "plt.ylabel('loss')\n",
        "plt.xlabel('epoch')\n",
        "plt.legend(['train', 'test'])\n",
        "plt.show()"
      ],
      "execution_count": 51,
      "outputs": [
        {
          "output_type": "display_data",
          "data": {
            "image/png": "[encoded data removed]",
            "text/plain": [
              "<Figure size 432x288 with 1 Axes>"
            ]
          },
          "metadata": {
            "tags": []
          }
        },
        {
          "output_type": "display_data",
          "data": {
            "image/png": "[encoded data removed]",
            "text/plain": [
              "<Figure size 432x288 with 1 Axes>"
            ]
          },
          "metadata": {
            "tags": []
          }
        }
      ]
    },
    {
      "cell_type": "markdown",
      "metadata": {
        "id": "4l_yPXXDbQN4",
        "colab_type": "text"
      },
      "source": [
        "And we can use `model.predict()` to make new predictions for any unseen data."
      ]
    },
    {
      "cell_type": "code",
      "metadata": {
        "id": "SL9JeouhQJTH",
        "colab_type": "code",
        "colab": {
          "base_uri": "https://localhost:8080/",
          "height": 353
        },
        "outputId": "4bdfd0b5-8d13-4f93-e1e1-8defe366898f"
      },
      "source": [
        "exemplar_index = 0\n",
        "\n",
        "plt.imshow(x_val[exemplar_index])\n",
        "\n",
        "predictions = model.predict(x_val)\n",
        "\n",
        "print(\"For item %d, our prediction scores across all classes (\\\"0\\\" through \\\"9\\\") are %s\\n\" \n",
        "      % (exemplar_index, np.array_str(predictions[exemplar_index])))\n",
        "\n",
        "#\n",
        "# We're going to select the column corresponding to the highest prediction\n",
        "# np.amax picks the highest value in an array, and np.where identifies the column\n",
        "guess = np.where(predictions[exemplar_index] == np.amax(predictions[exemplar_index]))\n",
        "# the shape of guess from the previous operation is a 1x1 array, so we need to \n",
        "# convert this to a scalar\n",
        "guess = np.squeeze(guess, axis=(0,1)).item()\n",
        "\n",
        "print(\"Our best prediction is %d, and the ground truth is %d.\" \n",
        "      % (guess, y_val[exemplar_index]))"
      ],
      "execution_count": 52,
      "outputs": [
        {
          "output_type": "stream",
          "text": [
            "For item 0, our prediction scores across all classes (\"0\" through \"9\") are [1.5840519e-14 3.5459519e-10 7.5761691e-10 9.9999988e-01 1.9911971e-11\n",
            " 7.1002113e-08 4.1637860e-17 2.5076436e-12 1.8693752e-08 9.6345910e-11]\n",
            "\n",
            "Our best prediction is 3, and the ground truth is 3.\n"
          ],
          "name": "stdout"
        },
        {
          "output_type": "display_data",
          "data": {
            "image/png": "[encoded data removed]",
            "text/plain": [
              "<Figure size 432x288 with 1 Axes>"
            ]
          },
          "metadata": {
            "tags": []
          }
        }
      ]
    },
    {
      "cell_type": "markdown",
      "metadata": {
        "id": "Pz4OuMLmU049",
        "colab_type": "text"
      },
      "source": [
        "\n",
        "\n",
        "# Experiments \n",
        "\n",
        "1. If you haven't already, try changing `num_epochs` above from 5 to, say, 25 and re-training and re-evaluating.  Can you see the different in accuracy for training for longer? Does our model look like it is overfitting at any point?\n",
        "\n",
        "2. Try changing the `dropout_rate` from 0.2 to, say, 0.1 or 0.3. What is the effect?\n",
        "\n",
        "3. Try commenting out the dropout layer entirely from our model definition above, and re-running. Can you see the impact of the dropout layer in our performance on the test data? \n",
        "\n",
        "\n",
        "    # tf.keras.layers.Dropout(dropout_rate, name=\"dropout\"), # we'll add some dropout\n",
        "\n",
        "4. Try scanning some of your own handwriting for a digit, and storing it as 28x28 pixel image. Then load the image, and perform a prediction on it. The following code will allow you to upload it to Colab and run a prediction on it... (**Note:** somethings `file.upload()` method can be flakey - if you get an error along the lines of `MessageError: TypeError: Cannot read property '_uploadFiles' of undefined`, run the following cell again...)\n",
        "\n"
      ]
    },
    {
      "cell_type": "code",
      "metadata": {
        "id": "_9dW71_4rUX2",
        "colab_type": "code",
        "colab": {
          "resources": {
            "http://localhost:8080/nbextensions/google.colab/files.js": {
              "data": "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",
              "ok": true,
              "headers": [
                [
                  "content-type",
                  "application/javascript"
                ]
              ],
              "status": 200,
              "status_text": ""
            }
          },
          "base_uri": "https://localhost:8080/",
          "height": 387
        },
        "outputId": "dffe8daf-1aa5-4ba2-8b13-27749590ae85"
      },
      "source": [
        "# upload an image file\n",
        "from google.colab import files\n",
        "\n",
        "uploaded_image = None\n",
        "\n",
        "uploaded_image = files.upload()\n",
        "\n",
        "import io\n",
        "import cv2\n",
        "\n",
        "if (uploaded_image != {}):\n",
        "  # convert the uploaded image data into an OpenCV grayscale inverted image,\n",
        "  # 28x28, as used by the MNIST data\n",
        "  image_stream = io.BytesIO(uploaded_image[list(uploaded_image.keys())[0]])                        \n",
        "  image = cv2.imdecode(np.frombuffer(image_stream.read(), np.uint8),1)\n",
        "  image = cv2.cvtColor(np.array(image), cv2.COLOR_RGB2GRAY)\n",
        "  image = cv2.bitwise_not(image) # invert image\n",
        "  image = cv2.resize(image, (28,28))\n",
        "\n",
        "  plt.imshow(image)\n",
        "\n",
        "  # now, we're rescale our image from 0-255 to 0.0-1.0, and reshape it as an\n",
        "  # array for input into model.predict\n",
        "  model_input = image/255.0\n",
        "  model_input = np.reshape(model_input, (1, 28, 28))\n",
        "  predictions = model.predict(model_input)\n",
        "\n",
        "  # finally, we'll print out all our prediction scores and\n",
        "  # our best guess for the digit\n",
        "  print(\"Our prediction scores across all classes (\\\"0\\\" through \\\"9\\\") are %s\\n\" \n",
        "      % (np.array_str(predictions[0])))\n",
        "  guess = np.where(predictions[0] == np.amax(predictions[0]))\n",
        "  guess = np.squeeze(guess, axis=(0,1)).item()\n",
        "  print(\"Our best prediction is %d\" % (guess))\n",
        "else:\n",
        "  print(\"An image was not successfully uploaded - try again!\")"
      ],
      "execution_count": 53,
      "outputs": [
        {
          "output_type": "display_data",
          "data": {
            "text/html": [
              "\n",
              "     <input type=\"file\" id=\"files-311344e3-ddde-4b12-9904-f75bb623dcd6\" name=\"files[]\" multiple disabled />\n",
              "     <output id=\"result-311344e3-ddde-4b12-9904-f75bb623dcd6\">\n",
              "      Upload widget is only available when the cell has been executed in the\n",
              "      current browser session. Please rerun this cell to enable.\n",
              "      </output>\n",
              "      <script src=\"/nbextensions/google.colab/files.js\"></script> "
            ],
            "text/plain": [
              "<IPython.core.display.HTML object>"
            ]
          },
          "metadata": {
            "tags": []
          }
        },
        {
          "output_type": "stream",
          "text": [
            "Saving 5.png to 5 (1).png\n",
            "Our prediction scores across all classes (\"0\" through \"9\") are [0.00082394 0.00238672 0.01447692 0.00067359 0.32824126 0.63711345\n",
            " 0.00289935 0.0065579  0.00132836 0.00549848]\n",
            "\n",
            "Our best prediction is 5\n"
          ],
          "name": "stdout"
        },
        {
          "output_type": "display_data",
          "data": {
            "image/png": "[encoded data removed]",
            "text/plain": [
              "<Figure size 432x288 with 1 Axes>"
            ]
          },
          "metadata": {
            "tags": []
          }
        }
      ]
    },
    {
      "cell_type": "code",
      "metadata": {
        "id": "RyIHP2aQkv3h",
        "colab_type": "code",
        "colab": {}
      },
      "source": [
        ""
      ],
      "execution_count": 0,
      "outputs": []
    }
  ]
}