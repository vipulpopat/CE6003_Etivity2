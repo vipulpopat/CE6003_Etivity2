{
  "nbformat": 4,
  "nbformat_minor": 0,
  "metadata": {
    "colab": {
      "name": "Lab_4_1_MNIST with CNN.ipynb",
      "provenance": [],
      "collapsed_sections": []
    },
    "kernelspec": {
      "name": "python3",
      "display_name": "Python 3"
    },
    "accelerator": "GPU"
  },
  "cells": [
    {
      "cell_type": "markdown",
      "metadata": {
        "id": "8e-LzQvLdzqO",
        "colab_type": "text"
      },
      "source": [
        "## Name: Abhijit Sinha\n",
        "## Student Number: 18195067\n",
        "### Email: 18195067@studentmail.ul.ie"
      ]
    },
    {
      "cell_type": "markdown",
      "metadata": {
        "id": "OtEVSXsCIycs",
        "colab_type": "text"
      },
      "source": [
        "# Handwritten Digit Recognition using a Neural Network\n",
        "\n",
        "In this lab, we're going to train a very simple neural network to recognise hardwritten digits. We're going to use the MNIST database of handwritten digits - http://yann.lecun.com/exdb/mnist/\n",
        "\n",
        "We will use the Keras API for TensorFlow 2 in this exmaple, along with NumPy, the Python library for multi-dimensional numerical computing.\n",
        "\n",
        "Let's now import TensorFlow 2 and NumPy into our Python runtime."
      ]
    },
    {
      "cell_type": "code",
      "metadata": {
        "id": "eOb5kfVYIywp",
        "colab_type": "code",
        "outputId": "2bd1aadb-91be-49ef-f48b-3df603cbb636",
        "colab": {
          "base_uri": "https://localhost:8080/",
          "height": 34
        }
      },
      "source": [
        "%tensorflow_version 2.x\n",
        "import tensorflow as tf\n",
        "\n",
        "import numpy as np"
      ],
      "execution_count": 0,
      "outputs": [
        {
          "output_type": "stream",
          "text": [
            "TensorFlow 2.x selected.\n"
          ],
          "name": "stdout"
        }
      ]
    },
    {
      "cell_type": "markdown",
      "metadata": {
        "id": "2rBg98xZGQBE",
        "colab_type": "text"
      },
      "source": [
        "\n",
        "To ensure these labs run as fast as possible, from the menu above select **Edit > Notebook settings** or **Runtime > Change runtime type** and select GPU as the Hardware accelerator option.\n",
        "\n",
        "Let's test that we are running using the GPU. "
      ]
    },
    {
      "cell_type": "code",
      "metadata": {
        "id": "3ylv348BGS-0",
        "colab_type": "code",
        "outputId": "8d4780b8-76e3-48ff-c22c-cae92250026e",
        "colab": {
          "base_uri": "https://localhost:8080/",
          "height": 34
        }
      },
      "source": [
        "tf.test.gpu_device_name()"
      ],
      "execution_count": 0,
      "outputs": [
        {
          "output_type": "execute_result",
          "data": {
            "text/plain": [
              "'/device:GPU:0'"
            ]
          },
          "metadata": {
            "tags": []
          },
          "execution_count": 2
        }
      ]
    },
    {
      "cell_type": "markdown",
      "metadata": {
        "id": "DYTUaEdVG5l9",
        "colab_type": "text"
      },
      "source": [
        "**If** this outputs '', then we are running on CPU only. If it outputs something like '/device:GPU:0' then we are running on GPU. If you see something like ...\n",
        "\n",
        "    Failed to assign a backend\n",
        "    No backend with GPU available. WOuld you like to use a runtime with no accelerator?\n",
        "\n",
        "This suggests that many other users have all the GPU resources on colab occupied at the moment, so perhaps try later or try using with the TPU instead."
      ]
    },
    {
      "cell_type": "markdown",
      "metadata": {
        "id": "oiVH2wQBH5gY",
        "colab_type": "text"
      },
      "source": [
        "## Loading our Sample Data\n",
        "\n",
        "We're going to next download and load the MNIST database of handwritten digits, using TF2.0/Keras helper functions.  \n",
        "\n",
        "This database is already conveniently split into labelled training and test sets for us - there are 60,000 training examples, and 10,000 test examples.\n",
        "\n",
        "We're going to further split the 10,000 test examples into 5,000 test set examples and 5,000 validation set examples."
      ]
    },
    {
      "cell_type": "code",
      "metadata": {
        "id": "hqo7XSM1G8Iz",
        "colab_type": "code",
        "outputId": "9e60a877-ba7e-4098-84a2-b29f7a314632",
        "colab": {
          "base_uri": "https://localhost:8080/",
          "height": 50
        }
      },
      "source": [
        "mnist = tf.keras.datasets.mnist\n",
        "(x_train, y_train), (x_test, y_test) = mnist.load_data()\n",
        "\n",
        "print(\"%d training examples, %d test examples by default\" % (len(x_train), len(x_test)))\n",
        "# We'll split our test data into test plus validation sets\n",
        "\n",
        "x_val = x_test[-5000:]\n",
        "y_val = y_test[-5000:]\n",
        "\n",
        "x_test = x_test[:-5000]\n",
        "y_test = y_test[:-5000]\n",
        "\n",
        "print(\"After splitting into test and validation sets, we have %d test examples and %d validation examples\" % (len(x_test), len(x_val)))"
      ],
      "execution_count": 0,
      "outputs": [
        {
          "output_type": "stream",
          "text": [
            "60000 training examples, 10000 test examples by default\n",
            "After splitting into test and validation sets, we have 5000 test examples and 5000 validation examples\n"
          ],
          "name": "stdout"
        }
      ]
    },
    {
      "cell_type": "markdown",
      "metadata": {
        "id": "HGYrFwuUV68N",
        "colab_type": "text"
      },
      "source": [
        "Let's look at one of these examples - let's say `x_train[0]`..."
      ]
    },
    {
      "cell_type": "code",
      "metadata": {
        "id": "EHSFA0KFV7TI",
        "colab_type": "code",
        "outputId": "7f245782-75ad-4f59-bfc7-90f07b995b74",
        "colab": {
          "base_uri": "https://localhost:8080/",
          "height": 281
        }
      },
      "source": [
        "import matplotlib.pyplot as plt\n",
        "# this next line is just Jupyter Notebook magic to plot inline in the webpage...\n",
        "%matplotlib inline \n",
        "\n",
        "exemplar_index = 5\n",
        "\n",
        "plt.imshow(x_train[exemplar_index], cmap='gray')\n",
        "plt.title(f\"Training Example {exemplar_index} has label {y_train[exemplar_index]}\");"
      ],
      "execution_count": 0,
      "outputs": [
        {
          "output_type": "display_data",
          "data": {
            "image/png": "[encoded data removed]",
            "text/plain": [
              "<Figure size 432x288 with 1 Axes>"
            ]
          },
          "metadata": {
            "tags": []
          }
        }
      ]
    },
    {
      "cell_type": "markdown",
      "metadata": {
        "id": "1Vk2zWp2JL_O",
        "colab_type": "text"
      },
      "source": [
        "You can change the value of variable `exemplar_index` above and re-run the cell to see the data in the training set and its associated ground truth label.\n",
        "\n",
        "With MNIST, the examples are stored in a simple file format of pixels, where 0 means background and 255 means foreground. We're next going to scale our input to be in the range of 0.0 to 1.0 by dividing by 255.\n",
        "\n",
        "This achieves two things - it takes our precision from integer to 32-bit float, and it also scales our input data so that our default learning rate (and other hyperparameters) will work well.  This step is not necessary, but it does help speed things up.\n",
        "\n",
        "Remember, if you do pre-scaling like this on your training data, you must perform the same steps to any data prior to attempting prediction on it. "
      ]
    },
    {
      "cell_type": "code",
      "metadata": {
        "id": "b_GAx42fHL0M",
        "colab_type": "code",
        "colab": {}
      },
      "source": [
        "x_train, x_test, x_val = x_train/255.0, x_test / 255.0, x_val / 255.0"
      ],
      "execution_count": 0,
      "outputs": []
    },
    {
      "cell_type": "code",
      "metadata": {
        "id": "9JrZBbdGbXQ1",
        "colab_type": "code",
        "colab": {}
      },
      "source": [
        "# reshape to be [samples][width][height][channel] - Needed for CNN\n",
        "x_train = x_train.reshape(-1, 28, 28, 1)\n",
        "x_val = x_val.reshape(-1, 28, 28, 1)\n",
        "x_test = x_test.reshape(-1, 28, 28, 1)"
      ],
      "execution_count": 0,
      "outputs": []
    },
    {
      "cell_type": "code",
      "metadata": {
        "id": "00VquQZv6dcG",
        "colab_type": "code",
        "outputId": "56bb9fce-c6f9-4176-a0e5-78b0beba8376",
        "colab": {
          "base_uri": "https://localhost:8080/",
          "height": 34
        }
      },
      "source": [
        "x_train.shape, x_test.shape, x_val.shape"
      ],
      "execution_count": 0,
      "outputs": [
        {
          "output_type": "execute_result",
          "data": {
            "text/plain": [
              "((60000, 28, 28, 1), (5000, 28, 28, 1), (5000, 28, 28, 1))"
            ]
          },
          "metadata": {
            "tags": []
          },
          "execution_count": 7
        }
      ]
    },
    {
      "cell_type": "markdown",
      "metadata": {
        "id": "Mo4HoXgKYRai",
        "colab_type": "text"
      },
      "source": [
        "## Creating and Configuring our Model\n",
        "\n",
        "We're create a few variables that can be used to store important model parameters and hyper parameters for modification layer on."
      ]
    },
    {
      "cell_type": "code",
      "metadata": {
        "id": "cXvucgRVYasr",
        "colab_type": "code",
        "colab": {}
      },
      "source": [
        "num_epochs = 25  # 5, 10, 25, 35, 100\n",
        "dropout_rate = 0.25  # 0.1, 0.2, 0.3\n",
        "batch_size = 16"
      ],
      "execution_count": 0,
      "outputs": []
    },
    {
      "cell_type": "markdown",
      "metadata": {
        "id": "x4zlR04_Yf1A",
        "colab_type": "text"
      },
      "source": [
        "Now, we will create our fully connected neural network model. This isn't a convolutional model, but a fully connected model, and as you'll see it is quite simple - with only a few layers, and approximately 100,000 trainable parameters. \n"
      ]
    },
    {
      "cell_type": "code",
      "metadata": {
        "id": "de4CRcVlHVhf",
        "colab_type": "code",
        "outputId": "dba5cb55-dcd8-466a-ec02-68b2d1ee6750",
        "colab": {
          "base_uri": "https://localhost:8080/",
          "height": 34
        }
      },
      "source": [
        "# Define neural network:\n",
        "model = tf.keras.models.Sequential()\n",
        "print(\"Input data shape\", x_train.shape[1:])\n",
        "\n",
        "# Input Convolution Layer\n",
        "model.add(tf.keras.layers.Conv2D(32, (3, 3), input_shape=(28, 28, 1), activation='relu'))\n",
        "# O/P = 26x26x32\n",
        "\n",
        "# Max Pooling\n",
        "model.add(tf.keras.layers.MaxPooling2D(pool_size = (2, 2)))\n",
        "# O/P = 13x13x32\n",
        "\n",
        "# Second Convolution Layer\n",
        "model.add(tf.keras.layers.Conv2D(16, (3, 3), input_shape=(13, 13, 32), activation = 'relu', padding='same'))\n",
        "# O/P = 12x12x16\n",
        "\n",
        "# Max Pooling\n",
        "model.add(tf.keras.layers.MaxPooling2D(pool_size = (2, 2)))\n",
        "# O/P = 6x6x16\n",
        "\n",
        "\n",
        "# Flatten from matrix to array for input to fully connected layers\n",
        "model.add(tf.keras.layers.Flatten())\n",
        "\n",
        "\n",
        "# Insert fully connected layers here\n",
        "model.add(tf.keras.layers.Dense(units = 40, activation = 'relu'))\n",
        "\n",
        "# Dropout layer (randomly dropping weights to reduce overfitting)\n",
        "model.add(tf.keras.layers.Dropout(dropout_rate))\n",
        "\n",
        "# Define Fully Connected Output Layer\n",
        "model.add(tf.keras.layers.Dense(units = 10, activation = 'softmax'))\n"
      ],
      "execution_count": 0,
      "outputs": [
        {
          "output_type": "stream",
          "text": [
            "Input data shape (28, 28, 1)\n"
          ],
          "name": "stdout"
        }
      ]
    },
    {
      "cell_type": "markdown",
      "metadata": {
        "id": "cpOb2bMBQyBP",
        "colab_type": "text"
      },
      "source": [
        "You can find out more about the types of layers supported in the Keras API at https://keras.io/layers/core/\n",
        "\n",
        "Let's have a quick look at the model we just created..."
      ]
    },
    {
      "cell_type": "code",
      "metadata": {
        "id": "e6-mVOBFQ0LH",
        "colab_type": "code",
        "outputId": "13ea0069-cc41-46a5-be11-386bf40be6d5",
        "colab": {
          "base_uri": "https://localhost:8080/",
          "height": 1000
        }
      },
      "source": [
        "print(model.summary(), '\\n')\n",
        "\n",
        "tf.keras.utils.plot_model(model)\n"
      ],
      "execution_count": 0,
      "outputs": [
        {
          "output_type": "stream",
          "text": [
            "Model: \"sequential\"\n",
            "_________________________________________________________________\n",
            "Layer (type)                 Output Shape              Param #   \n",
            "=================================================================\n",
            "conv2d (Conv2D)              (None, 26, 26, 32)        320       \n",
            "_________________________________________________________________\n",
            "max_pooling2d (MaxPooling2D) (None, 13, 13, 32)        0         \n",
            "_________________________________________________________________\n",
            "conv2d_1 (Conv2D)            (None, 13, 13, 16)        4624      \n",
            "_________________________________________________________________\n",
            "max_pooling2d_1 (MaxPooling2 (None, 6, 6, 16)          0         \n",
            "_________________________________________________________________\n",
            "flatten (Flatten)            (None, 576)               0         \n",
            "_________________________________________________________________\n",
            "dense (Dense)                (None, 40)                23080     \n",
            "_________________________________________________________________\n",
            "dropout (Dropout)            (None, 40)                0         \n",
            "_________________________________________________________________\n",
            "dense_1 (Dense)              (None, 10)                410       \n",
            "=================================================================\n",
            "Total params: 28,434\n",
            "Trainable params: 28,434\n",
            "Non-trainable params: 0\n",
            "_________________________________________________________________\n",
            "None \n",
            "\n"
          ],
          "name": "stdout"
        },
        {
          "output_type": "execute_result",
          "data": {
            "image/png": "[encoded data removed]",
            "text/plain": [
              "<IPython.core.display.Image object>"
            ]
          },
          "metadata": {
            "tags": []
          },
          "execution_count": 10
        }
      ]
    },
    {
      "cell_type": "markdown",
      "metadata": {
        "id": "bupzYhxCQ1Dl",
        "colab_type": "text"
      },
      "source": [
        "## Training our Model\n",
        "\n",
        "Okay, now time to compile the model, and to training it.\n",
        "\n",
        "Compiling, in Keras, configures the model for training - it defines the loss function, the optimizer and metrics. \n",
        "\n",
        "It doesn't affect or modify the weights, and you can compile a model as often as you want without affecting pretrained weights.\n"
      ]
    },
    {
      "cell_type": "code",
      "metadata": {
        "id": "tN2Q8zCvHbp2",
        "colab_type": "code",
        "colab": {}
      },
      "source": [
        "opt = tf.keras.optimizers.Adam(lr=0.003, decay=1e-5)\n",
        "\n",
        "# Compile model\n",
        "model.compile(optimizer= opt,\n",
        "              loss='sparse_categorical_crossentropy', # for integer labels\n",
        "              metrics=['accuracy'])\n"
      ],
      "execution_count": 0,
      "outputs": []
    },
    {
      "cell_type": "markdown",
      "metadata": {
        "id": "j1RauElzUBO4",
        "colab_type": "text"
      },
      "source": [
        "Just before we training our model (\"fit\" it to our data), it will be initialised with random weights. Let's see how it performs against our training data *before* we train it..."
      ]
    },
    {
      "cell_type": "code",
      "metadata": {
        "id": "NFQs4OMKUITk",
        "colab_type": "code",
        "outputId": "868391cf-96ef-4b3b-f118-b2d78d6ff267",
        "colab": {
          "base_uri": "https://localhost:8080/",
          "height": 50
        }
      },
      "source": [
        "model.evaluate(x_train,  y_train, verbose=2)"
      ],
      "execution_count": 0,
      "outputs": [
        {
          "output_type": "stream",
          "text": [
            "60000/1 - 6s - loss: 2.3069 - accuracy: 0.0866\n"
          ],
          "name": "stdout"
        },
        {
          "output_type": "execute_result",
          "data": {
            "text/plain": [
              "[2.3082569644927977, 0.08665]"
            ]
          },
          "metadata": {
            "tags": []
          },
          "execution_count": 12
        }
      ]
    },
    {
      "cell_type": "markdown",
      "metadata": {
        "id": "1Y0Ua1ZkUL0P",
        "colab_type": "text"
      },
      "source": [
        "Not terribly impressive - but that is just from random weight assigments. Let's now optimize our weights to improve our prediction score against our training data and see what happens."
      ]
    },
    {
      "cell_type": "code",
      "metadata": {
        "id": "hNvWzT8RHeUP",
        "colab_type": "code",
        "outputId": "a73664af-5595-4374-e2c2-741b66a1c418",
        "colab": {
          "base_uri": "https://localhost:8080/",
          "height": 874
        }
      },
      "source": [
        "history = model.fit(x_train, y_train,  validation_data = (x_val, y_val), batch_size=batch_size, epochs=num_epochs, shuffle=True)"
      ],
      "execution_count": 0,
      "outputs": [
        {
          "output_type": "stream",
          "text": [
            "Train on 60000 samples, validate on 5000 samples\n",
            "Epoch 1/25\n",
            "60000/60000 [==============================] - 16s 267us/sample - loss: 0.1967 - accuracy: 0.9395 - val_loss: 0.0295 - val_accuracy: 0.9910\n",
            "Epoch 2/25\n",
            "60000/60000 [==============================] - 15s 251us/sample - loss: 0.0960 - accuracy: 0.9713 - val_loss: 0.0275 - val_accuracy: 0.9904\n",
            "Epoch 3/25\n",
            "60000/60000 [==============================] - 15s 251us/sample - loss: 0.0813 - accuracy: 0.9761 - val_loss: 0.0313 - val_accuracy: 0.9896\n",
            "Epoch 4/25\n",
            "60000/60000 [==============================] - 15s 253us/sample - loss: 0.0675 - accuracy: 0.9796 - val_loss: 0.0225 - val_accuracy: 0.9922\n",
            "Epoch 5/25\n",
            "60000/60000 [==============================] - 15s 252us/sample - loss: 0.0585 - accuracy: 0.9828 - val_loss: 0.0211 - val_accuracy: 0.9948\n",
            "Epoch 6/25\n",
            "60000/60000 [==============================] - 15s 253us/sample - loss: 0.0569 - accuracy: 0.9828 - val_loss: 0.0186 - val_accuracy: 0.9938\n",
            "Epoch 7/25\n",
            "60000/60000 [==============================] - 15s 253us/sample - loss: 0.0527 - accuracy: 0.9837 - val_loss: 0.0185 - val_accuracy: 0.9940\n",
            "Epoch 8/25\n",
            "60000/60000 [==============================] - 16s 263us/sample - loss: 0.0454 - accuracy: 0.9860 - val_loss: 0.0200 - val_accuracy: 0.9946\n",
            "Epoch 9/25\n",
            "60000/60000 [==============================] - 15s 253us/sample - loss: 0.0445 - accuracy: 0.9863 - val_loss: 0.0186 - val_accuracy: 0.9944\n",
            "Epoch 10/25\n",
            "60000/60000 [==============================] - 15s 253us/sample - loss: 0.0421 - accuracy: 0.9869 - val_loss: 0.0217 - val_accuracy: 0.9940\n",
            "Epoch 11/25\n",
            "60000/60000 [==============================] - 15s 254us/sample - loss: 0.0364 - accuracy: 0.9880 - val_loss: 0.0241 - val_accuracy: 0.9934\n",
            "Epoch 12/25\n",
            "60000/60000 [==============================] - 15s 252us/sample - loss: 0.0376 - accuracy: 0.9882 - val_loss: 0.0252 - val_accuracy: 0.9932\n",
            "Epoch 13/25\n",
            "60000/60000 [==============================] - 15s 253us/sample - loss: 0.0334 - accuracy: 0.9896 - val_loss: 0.0247 - val_accuracy: 0.9932\n",
            "Epoch 14/25\n",
            "60000/60000 [==============================] - 15s 251us/sample - loss: 0.0329 - accuracy: 0.9896 - val_loss: 0.0366 - val_accuracy: 0.9942\n",
            "Epoch 15/25\n",
            "60000/60000 [==============================] - 15s 248us/sample - loss: 0.0324 - accuracy: 0.9896 - val_loss: 0.0306 - val_accuracy: 0.9948\n",
            "Epoch 16/25\n",
            "60000/60000 [==============================] - 15s 250us/sample - loss: 0.0333 - accuracy: 0.9897 - val_loss: 0.0240 - val_accuracy: 0.9938\n",
            "Epoch 17/25\n",
            "60000/60000 [==============================] - 15s 247us/sample - loss: 0.0286 - accuracy: 0.9910 - val_loss: 0.0251 - val_accuracy: 0.9938\n",
            "Epoch 18/25\n",
            "60000/60000 [==============================] - 15s 247us/sample - loss: 0.0297 - accuracy: 0.9906 - val_loss: 0.0292 - val_accuracy: 0.9934\n",
            "Epoch 19/25\n",
            "60000/60000 [==============================] - 15s 249us/sample - loss: 0.0280 - accuracy: 0.9917 - val_loss: 0.0335 - val_accuracy: 0.9930\n",
            "Epoch 20/25\n",
            "60000/60000 [==============================] - 15s 249us/sample - loss: 0.0253 - accuracy: 0.9918 - val_loss: 0.0332 - val_accuracy: 0.9930\n",
            "Epoch 21/25\n",
            "60000/60000 [==============================] - 15s 253us/sample - loss: 0.0268 - accuracy: 0.9912 - val_loss: 0.0398 - val_accuracy: 0.9930\n",
            "Epoch 22/25\n",
            "60000/60000 [==============================] - 15s 255us/sample - loss: 0.0257 - accuracy: 0.9922 - val_loss: 0.0225 - val_accuracy: 0.9956\n",
            "Epoch 23/25\n",
            "60000/60000 [==============================] - 15s 252us/sample - loss: 0.0258 - accuracy: 0.9919 - val_loss: 0.0219 - val_accuracy: 0.9940\n",
            "Epoch 24/25\n",
            "60000/60000 [==============================] - 15s 246us/sample - loss: 0.0245 - accuracy: 0.9922 - val_loss: 0.0300 - val_accuracy: 0.9938\n",
            "Epoch 25/25\n",
            "60000/60000 [==============================] - 15s 249us/sample - loss: 0.0204 - accuracy: 0.9931 - val_loss: 0.0340 - val_accuracy: 0.9944\n"
          ],
          "name": "stdout"
        }
      ]
    },
    {
      "cell_type": "markdown",
      "metadata": {
        "id": "9b5z0DZFslTe",
        "colab_type": "text"
      },
      "source": [
        "In the dictionary variable `history`, we have a record of the training and validation set "
      ]
    },
    {
      "cell_type": "code",
      "metadata": {
        "id": "yFlP82BzsGkZ",
        "colab_type": "code",
        "outputId": "e83e5069-1c77-432d-f1f2-94b24e6632f4",
        "colab": {
          "base_uri": "https://localhost:8080/",
          "height": 34
        }
      },
      "source": [
        "print(history.history.keys())"
      ],
      "execution_count": 0,
      "outputs": [
        {
          "output_type": "stream",
          "text": [
            "dict_keys(['loss', 'accuracy', 'val_loss', 'val_accuracy'])\n"
          ],
          "name": "stdout"
        }
      ]
    },
    {
      "cell_type": "markdown",
      "metadata": {
        "id": "UWcxLyN2SnGr",
        "colab_type": "text"
      },
      "source": [
        "# Evaluating the Performance of our Trained Model against our Validation Set\n",
        "\n",
        "Okay, let's now see how well our trained model works on our validation set."
      ]
    },
    {
      "cell_type": "code",
      "metadata": {
        "id": "chlg2_6RSnXy",
        "colab_type": "code",
        "outputId": "15a642ef-b4e7-417a-e9ae-eefd2c16d516",
        "colab": {
          "base_uri": "https://localhost:8080/",
          "height": 50
        }
      },
      "source": [
        "model.evaluate(x_val,  y_val, verbose=2)"
      ],
      "execution_count": 0,
      "outputs": [
        {
          "output_type": "stream",
          "text": [
            "5000/1 - 0s - loss: 0.0170 - accuracy: 0.9944\n"
          ],
          "name": "stdout"
        },
        {
          "output_type": "execute_result",
          "data": {
            "text/plain": [
              "[0.034036110456620285, 0.9944]"
            ]
          },
          "metadata": {
            "tags": []
          },
          "execution_count": 15
        }
      ]
    },
    {
      "cell_type": "markdown",
      "metadata": {
        "id": "56kXvh0sbJWZ",
        "colab_type": "text"
      },
      "source": [
        "At this point, consider going back and changing the `num_epochs` from 5 to, say, 25 and repeating the exercise.  Does our model look like it is overfitting at any point?\n",
        "\n",
        "Or changing the `dropout_rate` from 0.2 to, say, 0.1 or 0.3."
      ]
    },
    {
      "cell_type": "markdown",
      "metadata": {
        "id": "cRLWymupbdTP",
        "colab_type": "text"
      },
      "source": [
        "## Evaluating the Performance against our Test Set\n",
        "\n",
        "We reserved our test set to better understand the impact our training and hyper parameter experiments had in generalising to unseen data. We can now evaluate our performance against our test set.\n",
        "\n",
        "We can evaluate our model against our test set and get a figure for overall accuracy."
      ]
    },
    {
      "cell_type": "code",
      "metadata": {
        "id": "AgbG5eugbLBI",
        "colab_type": "code",
        "outputId": "a5472ea4-f1ac-433c-8749-eaf225ce000f",
        "colab": {
          "base_uri": "https://localhost:8080/",
          "height": 50
        }
      },
      "source": [
        "model.evaluate(x_test, y_test, verbose=2)"
      ],
      "execution_count": 0,
      "outputs": [
        {
          "output_type": "stream",
          "text": [
            "5000/1 - 0s - loss: 0.0394 - accuracy: 0.9840\n"
          ],
          "name": "stdout"
        },
        {
          "output_type": "execute_result",
          "data": {
            "text/plain": [
              "[0.07878770181109199, 0.984]"
            ]
          },
          "metadata": {
            "tags": []
          },
          "execution_count": 16
        }
      ]
    },
    {
      "cell_type": "markdown",
      "metadata": {
        "id": "Q8V-ASaluBh0",
        "colab_type": "text"
      },
      "source": [
        "\n",
        "We can also plot our history from training, and view our training curves - that is, the record of our training set accuracy/loss vs our validation set accuracy/loss per epoch."
      ]
    },
    {
      "cell_type": "code",
      "metadata": {
        "id": "G7BaqD6buBvK",
        "colab_type": "code",
        "outputId": "093393d5-cd82-4ec2-de3c-c16d58851420",
        "colab": {
          "base_uri": "https://localhost:8080/",
          "height": 573
        }
      },
      "source": [
        "plt.plot(history.history['accuracy'])\n",
        "plt.plot(history.history['val_accuracy'])\n",
        "plt.title(f'Model Accuracy: Epoch={num_epochs}')\n",
        "plt.ylabel('accuracy')\n",
        "plt.xlabel('epoch')\n",
        "plt.grid()\n",
        "plt.legend(['train', 'validation'])\n",
        "plt.show()\n",
        "\n",
        "plt.plot(history.history['loss'])\n",
        "plt.plot(history.history['val_loss'])\n",
        "plt.title(f'Model Loss: Epoch={num_epochs}')\n",
        "plt.ylabel('loss')\n",
        "plt.xlabel('epoch')\n",
        "plt.legend(['train', 'validation'])\n",
        "plt.grid()\n",
        "plt.show()"
      ],
      "execution_count": 0,
      "outputs": [
        {
          "output_type": "display_data",
          "data": {
            "image/png": "[encoded data removed]",
            "text/plain": [
              "<Figure size 432x288 with 1 Axes>"
            ]
          },
          "metadata": {
            "tags": []
          }
        },
        {
          "output_type": "display_data",
          "data": {
            "image/png": "[encoded data removed]",
            "text/plain": [
              "<Figure size 432x288 with 1 Axes>"
            ]
          },
          "metadata": {
            "tags": []
          }
        }
      ]
    },
    {
      "cell_type": "markdown",
      "metadata": {
        "id": "4l_yPXXDbQN4",
        "colab_type": "text"
      },
      "source": [
        "And we can use `model.predict()` to make new predictions for any unseen data from validation/test set."
      ]
    },
    {
      "cell_type": "code",
      "metadata": {
        "id": "SL9JeouhQJTH",
        "colab_type": "code",
        "outputId": "22ac3b36-a54f-47d4-91ef-f4d879a1aabc",
        "colab": {
          "base_uri": "https://localhost:8080/",
          "height": 332
        }
      },
      "source": [
        "exemplar_index = 5\n",
        "\n",
        "plt.imshow(x_val[exemplar_index].reshape(28,28), cmap='gray')\n",
        "\n",
        "predictions = model.predict(x_val)\n",
        "\n",
        "print(\"For item %d, our prediction scores across all classes (\\\"0\\\" through \\\"9\\\") are %s\\n\" \n",
        "      % (exemplar_index, np.array_str(predictions[exemplar_index])))\n",
        "\n",
        "#\n",
        "# We're going to select the column corresponding to the highest prediction\n",
        "# np.amax picks the highest value in an array, and np.where identifies the column\n",
        "guess = np.where(predictions[exemplar_index] == np.amax(predictions[exemplar_index]))\n",
        "# the shape of guess from the previous operation is a 1x1 array, so we need to \n",
        "# convert this to a scalar\n",
        "guess = np.squeeze(guess, axis=(0,1)).item()\n",
        "\n",
        "print(\"Our best prediction is %d, and the ground truth is %d.\" \n",
        "      % (guess, y_val[exemplar_index]))"
      ],
      "execution_count": 0,
      "outputs": [
        {
          "output_type": "stream",
          "text": [
            "For item 5, our prediction scores across all classes (\"0\" through \"9\") are [5.1082183e-32 1.0000000e+00 6.9834086e-18 5.6418120e-38 5.4933792e-17\n",
            " 7.5993034e-31 2.7861339e-29 4.3049920e-20 6.4456131e-22 4.0612126e-30]\n",
            "\n",
            "Our best prediction is 1, and the ground truth is 1.\n"
          ],
          "name": "stdout"
        },
        {
          "output_type": "display_data",
          "data": {
            "image/png": "[encoded data removed]",
            "text/plain": [
              "<Figure size 432x288 with 1 Axes>"
            ]
          },
          "metadata": {
            "tags": []
          }
        }
      ]
    },
    {
      "cell_type": "markdown",
      "metadata": {
        "id": "Pz4OuMLmU049",
        "colab_type": "text"
      },
      "source": [
        "\n",
        "\n",
        "# Experiments \n",
        "\n",
        "1. If you haven't already, try changing `num_epochs` above from 5 to, say, 25 and re-training and re-evaluating.  Can you see the different in accuracy for training for longer? Does our model look like it is overfitting at any point?\n",
        "\n",
        "2. Try changing the `dropout_rate` from 0.2 to, say, 0.1 or 0.3. What is the effect?\n",
        "\n",
        "3. Try commenting out the dropout layer entirely from our model definition above, and re-running. Can you see the impact of the dropout layer in our performance on the test data? \n",
        "\n",
        "\n",
        "    # tf.keras.layers.Dropout(dropout_rate, name=\"dropout\"), # we'll add some dropout\n",
        "\n",
        "4. Try scanning some of your own handwriting for a digit, and storing it as 28x28 pixel image. Then load the image, and perform a prediction on it. The following code will allow you to upload it to Colab and run a prediction on it... (**Note:** somethings `file.upload()` method can be flakey - if you get an error along the lines of `MessageError: TypeError: Cannot read property '_uploadFiles' of undefined`, run the following cell again...)\n",
        "\n"
      ]
    },
    {
      "cell_type": "code",
      "metadata": {
        "id": "_9dW71_4rUX2",
        "colab_type": "code",
        "outputId": "b8cc9768-7ea5-4a1f-b773-72f9ed53ada0",
        "colab": {
          "resources": {
            "http://localhost:8080/nbextensions/google.colab/files.js": {
              "data": "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",
              "ok": true,
              "headers": [
                [
                  "content-type",
                  "application/javascript"
                ]
              ],
              "status": 200,
              "status_text": ""
            }
          },
          "base_uri": "https://localhost:8080/",
          "height": 390
        }
      },
      "source": [
        "# upload an image file\n",
        "from google.colab import files\n",
        "\n",
        "uploaded_image = None\n",
        "\n",
        "uploaded_image = files.upload()\n",
        "\n",
        "import io\n",
        "import cv2\n",
        "\n",
        "if (uploaded_image != {}):\n",
        "  # convert the uploaded image data into an OpenCV grayscale inverted image,\n",
        "  # 28x28, as used by the MNIST data\n",
        "  image_stream = io.BytesIO(uploaded_image[list(uploaded_image.keys())[0]])                        \n",
        "  image = cv2.imdecode(np.frombuffer(image_stream.read(), np.uint8),1)\n",
        "  image = cv2.cvtColor(np.array(image), cv2.COLOR_RGB2GRAY)\n",
        "  image = cv2.bitwise_not(image) # invert image\n",
        "  image = cv2.resize(image, (28,28))\n",
        "\n",
        "  plt.imshow(image, cmap='gray')\n",
        "\n",
        "  # now, we're rescale our image from 0-255 to 0.0-1.0, and reshape it as an\n",
        "  # array for input into model.predict\n",
        "  model_input = image/255.0\n",
        "  model_input = np.reshape(model_input, (1, 28, 28, 1))\n",
        "  predictions = model.predict(model_input)\n",
        "\n",
        "  # finally, we'll print out all our prediction scores and\n",
        "  # our best guess for the digit\n",
        "  print(\"Our prediction scores across all classes (\\\"0\\\" through \\\"9\\\") are %s\\n\" \n",
        "      % (np.array_str(predictions[0])))\n",
        "  guess = np.where(predictions[0] == np.amax(predictions[0]))\n",
        "  guess = np.squeeze(guess, axis=(0,1)).item()\n",
        "  print(\"Our best prediction is %d\" % (guess))\n",
        "else:\n",
        "  print(\"An image was not successfully uploaded - try again!\")"
      ],
      "execution_count": 0,
      "outputs": [
        {
          "output_type": "display_data",
          "data": {
            "text/html": [
              "\n",
              "     <input type=\"file\" id=\"files-74eef865-7730-48dc-afd9-986c8d3e3c45\" name=\"files[]\" multiple disabled />\n",
              "     <output id=\"result-74eef865-7730-48dc-afd9-986c8d3e3c45\">\n",
              "      Upload widget is only available when the cell has been executed in the\n",
              "      current browser session. Please rerun this cell to enable.\n",
              "      </output>\n",
              "      <script src=\"/nbextensions/google.colab/files.js\"></script> "
            ],
            "text/plain": [
              "<IPython.core.display.HTML object>"
            ]
          },
          "metadata": {
            "tags": []
          }
        },
        {
          "output_type": "stream",
          "text": [
            "Saving num5.png to num5 (1).png\n",
            "Our prediction scores across all classes (\"0\" through \"9\") are [0.12393129 0.03866922 0.04420973 0.15186168 0.01400634 0.3982551\n",
            " 0.09512866 0.02569227 0.08522123 0.0230245 ]\n",
            "\n",
            "Our best prediction is 5\n"
          ],
          "name": "stdout"
        },
        {
          "output_type": "display_data",
          "data": {
            "image/png": "[encoded data removed]",
            "text/plain": [
              "<Figure size 432x288 with 1 Axes>"
            ]
          },
          "metadata": {
            "tags": []
          }
        }
      ]
    },
    {
      "cell_type": "code",
      "metadata": {
        "id": "RyIHP2aQkv3h",
        "colab_type": "code",
        "colab": {}
      },
      "source": [
        ""
      ],
      "execution_count": 0,
      "outputs": []
    }
  ]
}