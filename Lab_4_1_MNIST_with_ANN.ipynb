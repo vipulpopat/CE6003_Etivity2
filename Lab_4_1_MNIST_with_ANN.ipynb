{
  "nbformat": 4,
  "nbformat_minor": 0,
  "metadata": {
    "colab": {
      "name": "Lab_4_1_MNIST_with_ANN.ipynb",
      "provenance": [],
      "collapsed_sections": []
    },
    "kernelspec": {
      "name": "python3",
      "display_name": "Python 3"
    },
    "accelerator": "GPU"
  },
  "cells": [
    {
      "cell_type": "markdown",
      "metadata": {
        "id": "OtEVSXsCIycs",
        "colab_type": "text"
      },
      "source": [
        "# Handwritten Digit Recognition using a Neural Network\n",
        "\n",
        "In this lab, we're going to train a very simple neural network to recognise hardwritten digits. We're going to use the MNIST database of handwritten digits - http://yann.lecun.com/exdb/mnist/\n",
        "\n",
        "We will use the Keras API for TensorFlow 2 in this exmaple, along with NumPy, the Python library for multi-dimensional numerical computing.\n",
        "\n",
        "Let's now import TensorFlow 2 and NumPy into our Python runtime."
      ]
    },
    {
      "cell_type": "code",
      "metadata": {
        "id": "eOb5kfVYIywp",
        "colab_type": "code",
        "outputId": "39accd81-e7e1-424f-8372-1ea35e87db59",
        "colab": {
          "base_uri": "https://localhost:8080/",
          "height": 34
        }
      },
      "source": [
        "%tensorflow_version 2.x\n",
        "import tensorflow as tf\n",
        "\n",
        "import numpy as np"
      ],
      "execution_count": 1,
      "outputs": [
        {
          "output_type": "stream",
          "text": [
            "TensorFlow 2.x selected.\n"
          ],
          "name": "stdout"
        }
      ]
    },
    {
      "cell_type": "markdown",
      "metadata": {
        "id": "2rBg98xZGQBE",
        "colab_type": "text"
      },
      "source": [
        "\n",
        "To ensure these labs run as fast as possible, from the menu above select **Edit > Notebook settings** or **Runtime > Change runtime type** and select GPU as the Hardware accelerator option.\n",
        "\n",
        "Let's test that we are running using the GPU. "
      ]
    },
    {
      "cell_type": "code",
      "metadata": {
        "id": "3ylv348BGS-0",
        "colab_type": "code",
        "outputId": "60f9fb3f-ad15-46de-f9e4-8c7a9c2b1e63",
        "colab": {
          "base_uri": "https://localhost:8080/",
          "height": 34
        }
      },
      "source": [
        "tf.test.gpu_device_name()"
      ],
      "execution_count": 2,
      "outputs": [
        {
          "output_type": "execute_result",
          "data": {
            "text/plain": [
              "'/device:GPU:0'"
            ]
          },
          "metadata": {
            "tags": []
          },
          "execution_count": 2
        }
      ]
    },
    {
      "cell_type": "markdown",
      "metadata": {
        "id": "DYTUaEdVG5l9",
        "colab_type": "text"
      },
      "source": [
        "**If** this outputs '', then we are running on CPU only. If it outputs something like '/device:GPU:0' then we are running on GPU. If you see something like ...\n",
        "\n",
        "    Failed to assign a backend\n",
        "    No backend with GPU available. WOuld you like to use a runtime with no accelerator?\n",
        "\n",
        "This suggests that many other users have all the GPU resources on colab occupied at the moment, so perhaps try later or try using with the TPU instead."
      ]
    },
    {
      "cell_type": "markdown",
      "metadata": {
        "id": "oiVH2wQBH5gY",
        "colab_type": "text"
      },
      "source": [
        "## Loading our Sample Data\n",
        "\n",
        "We're going to next download and load the MNIST database of handwritten digits, using TF2.0/Keras helper functions.  \n",
        "\n",
        "This database is already conveniently split into labelled training and test sets for us - there are 60,000 training examples, and 10,000 test examples.\n",
        "\n",
        "We're going to further split the 10,000 test examples into 5,000 test set examples and 5,000 validation set examples."
      ]
    },
    {
      "cell_type": "code",
      "metadata": {
        "id": "hqo7XSM1G8Iz",
        "colab_type": "code",
        "outputId": "8b93d782-b81a-4a8d-cc40-f11467528730",
        "colab": {
          "base_uri": "https://localhost:8080/",
          "height": 85
        }
      },
      "source": [
        "mnist = tf.keras.datasets.mnist\n",
        "(x_train, y_train), (x_test, y_test) = mnist.load_data()\n",
        "\n",
        "print(\"%d training examples, %d test examples by default\" % (len(x_train), len(x_test)))\n",
        "# We'll split our test data into test plus validation sets\n",
        "\n",
        "x_val = x_test[-5000:]\n",
        "y_val = y_test[-5000:]\n",
        "\n",
        "x_test = x_test[:-5000]\n",
        "y_test = y_test[:-5000]\n",
        "\n",
        "print(\"After splitting into test and validation sets, we have %d test examples and %d validation examples\" % (len(x_test), len(x_val)))"
      ],
      "execution_count": 3,
      "outputs": [
        {
          "output_type": "stream",
          "text": [
            "Downloading data from https://storage.googleapis.com/tensorflow/tf-keras-datasets/mnist.npz\n",
            "11493376/11490434 [==============================] - 0s 0us/step\n",
            "60000 training examples, 10000 test examples by default\n",
            "After splitting into test and validation sets, we have 5000 test examples and 5000 validation examples\n"
          ],
          "name": "stdout"
        }
      ]
    },
    {
      "cell_type": "markdown",
      "metadata": {
        "id": "HGYrFwuUV68N",
        "colab_type": "text"
      },
      "source": [
        "Let's look at one of these examples - let's say `x_train[0]`..."
      ]
    },
    {
      "cell_type": "code",
      "metadata": {
        "id": "EHSFA0KFV7TI",
        "colab_type": "code",
        "outputId": "8f9b55e3-43a7-4c41-f349-0ff0c474c41b",
        "colab": {
          "base_uri": "https://localhost:8080/",
          "height": 298
        }
      },
      "source": [
        "import matplotlib.pyplot as plt\n",
        "# this next line is just Jupyter Notebook magic to plot inline in the webpage...\n",
        "%matplotlib inline \n",
        "\n",
        "exemplar_index = 0\n",
        "\n",
        "plt.imshow(x_train[exemplar_index])\n",
        "plt.title(\"Training Example 0 has label \" + str(y_train[exemplar_index]))"
      ],
      "execution_count": 4,
      "outputs": [
        {
          "output_type": "execute_result",
          "data": {
            "text/plain": [
              "Text(0.5, 1.0, 'Training Example 0 has label 5')"
            ]
          },
          "metadata": {
            "tags": []
          },
          "execution_count": 4
        },
        {
          "output_type": "display_data",
          "data": {
            "image/png": "[encoded data removed]",
            "text/plain": [
              "<Figure size 432x288 with 1 Axes>"
            ]
          },
          "metadata": {
            "tags": []
          }
        }
      ]
    },
    {
      "cell_type": "markdown",
      "metadata": {
        "id": "1Vk2zWp2JL_O",
        "colab_type": "text"
      },
      "source": [
        "You can change the value of variable `exemplar_index` above and re-run the cell to see the data in the training set and its associated ground truth label.\n",
        "\n",
        "With MNIST, the examples are stored in a simple file format of pixels, where 0 means background and 255 means foreground. We're next going to scale our input to be in the range of 0.0 to 1.0 by dividing by 255.\n",
        "\n",
        "This achieves two things - it takes our precision from integer to 32-bit float, and it also scales our input data so that our default learning rate (and other hyperparameters) will work well.  This step is not necessary, but it does help speed things up.\n",
        "\n",
        "Remember, if you do pre-scaling like this on your training data, you must perform the same steps to any data prior to attempting prediction on it. "
      ]
    },
    {
      "cell_type": "code",
      "metadata": {
        "id": "b_GAx42fHL0M",
        "colab_type": "code",
        "colab": {}
      },
      "source": [
        "x_train, x_test, x_val = x_train/255.0, x_test / 255.0, x_val / 255.0"
      ],
      "execution_count": 0,
      "outputs": []
    },
    {
      "cell_type": "markdown",
      "metadata": {
        "id": "z3yQdJdaOToB",
        "colab_type": "text"
      },
      "source": [
        "## Creating method from lab notebook code to run epoch / dropout tests easier"
      ]
    },
    {
      "cell_type": "code",
      "metadata": {
        "id": "0WoGl5jjL_B7",
        "colab_type": "code",
        "colab": {}
      },
      "source": [
        "def train_model(x_train,  y_train, x_val, y_val, num_epochs, dropout_rate):\n",
        "  # Define model\n",
        "  model = tf.keras.models.Sequential([\n",
        "    # our input layer will take 28x28 images, and \"flatten\" them to 784x1\n",
        "    tf.keras.layers.Flatten(input_shape=(28, 28), name=\"flatten\"), \n",
        "\n",
        "    # next, we'll have a densely connected layer using ReLU as its activation function\n",
        "    tf.keras.layers.Dense(128, activation='relu', name=\"fc_with_ReLU\"), \n",
        "\n",
        "    # we'll add some dropout, which is a form of regularisation - \n",
        "    # you can experiment with removing this and seeing what difference it makes\n",
        "    tf.keras.layers.Dropout(dropout_rate, name=\"dropout\"), \n",
        "\n",
        "    # finally, a densely connected layer with softmax as a classifier\n",
        "    tf.keras.layers.Dense(10, activation='softmax', name=\"fc_softmax_classifier\")\n",
        "  ])\n",
        "\n",
        "  # Compile Model\n",
        "  model.compile(optimizer='adam',\n",
        "                loss='sparse_categorical_crossentropy',\n",
        "                metrics=['accuracy'])\n",
        "\n",
        "  # Fit model\n",
        "  history = model.fit(x_train, y_train, validation_data = (x_val, y_val), epochs=num_epochs, shuffle=True)\n",
        "  return model, history\n",
        "\n",
        "def plot_history(history, epochs, dropout):\n",
        "  plt.plot(history.history['accuracy'])\n",
        "  plt.plot(history.history['val_accuracy'])\n",
        "  plt.title(f'Model Accuracy: Epochs={epochs} Dropout={dropout}')\n",
        "  plt.ylabel('accuracy')\n",
        "  plt.xlabel('epoch')\n",
        "  plt.legend(['train', 'test'])\n",
        "  plt.show()\n",
        "\n",
        "  plt.plot(history.history['loss'])\n",
        "  plt.plot(history.history['val_loss'])\n",
        "  plt.title(f'Model Loss: Epochs={epochs} Dropout={dropout}')\n",
        "  plt.ylabel('loss')\n",
        "  plt.xlabel('epoch')\n",
        "  plt.legend(['train', 'test'])\n",
        "  plt.show()"
      ],
      "execution_count": 0,
      "outputs": []
    },
    {
      "cell_type": "markdown",
      "metadata": {
        "id": "8Z7zZH5QUijS",
        "colab_type": "text"
      },
      "source": [
        "## Let's look at epochs first and see when the model starts to overfit\n",
        "\n",
        "#### 5 Epochs / 0.2 Dropout "
      ]
    },
    {
      "cell_type": "code",
      "metadata": {
        "id": "S0HMo8PpM2Oq",
        "colab_type": "code",
        "colab": {
          "base_uri": "https://localhost:8080/",
          "height": 204
        },
        "outputId": "3eadf660-4c0a-46ec-fe09-33df7ec3aa3c"
      },
      "source": [
        "# 5 epochs / 0.2 dropout\n",
        "model_1, history_1 = train_model(x_train,  y_train, x_val, y_val, 5, 0.2)"
      ],
      "execution_count": 23,
      "outputs": [
        {
          "output_type": "stream",
          "text": [
            "Train on 60000 samples, validate on 5000 samples\n",
            "Epoch 1/5\n",
            "60000/60000 [==============================] - 5s 80us/sample - loss: 0.2942 - accuracy: 0.9138 - val_loss: 0.0987 - val_accuracy: 0.9718\n",
            "Epoch 2/5\n",
            "60000/60000 [==============================] - 5s 78us/sample - loss: 0.1412 - accuracy: 0.9585 - val_loss: 0.0697 - val_accuracy: 0.9798\n",
            "Epoch 3/5\n",
            "60000/60000 [==============================] - 5s 76us/sample - loss: 0.1065 - accuracy: 0.9685 - val_loss: 0.0590 - val_accuracy: 0.9822\n",
            "Epoch 4/5\n",
            "60000/60000 [==============================] - 4s 71us/sample - loss: 0.0867 - accuracy: 0.9734 - val_loss: 0.0574 - val_accuracy: 0.9822\n",
            "Epoch 5/5\n",
            "60000/60000 [==============================] - 4s 72us/sample - loss: 0.0754 - accuracy: 0.9760 - val_loss: 0.0463 - val_accuracy: 0.9866\n"
          ],
          "name": "stdout"
        }
      ]
    },
    {
      "cell_type": "code",
      "metadata": {
        "id": "CEU3SSFkNDmw",
        "colab_type": "code",
        "colab": {
          "base_uri": "https://localhost:8080/",
          "height": 51
        },
        "outputId": "5a16e9c6-41df-458a-e7c0-dc92aeefcc31"
      },
      "source": [
        "# Evaluate train set\n",
        "model_1.evaluate(x_train,  y_train, verbose=2)"
      ],
      "execution_count": 24,
      "outputs": [
        {
          "output_type": "stream",
          "text": [
            "60000/1 - 3s - loss: 0.0233 - accuracy: 0.9885\n"
          ],
          "name": "stdout"
        },
        {
          "output_type": "execute_result",
          "data": {
            "text/plain": [
              "[0.03928321805779512, 0.9884833]"
            ]
          },
          "metadata": {
            "tags": []
          },
          "execution_count": 24
        }
      ]
    },
    {
      "cell_type": "code",
      "metadata": {
        "id": "AI74KBP0Nz1C",
        "colab_type": "code",
        "colab": {
          "base_uri": "https://localhost:8080/",
          "height": 51
        },
        "outputId": "07ad50a4-a923-4064-c4d9-c865fc86583e"
      },
      "source": [
        "# Evaluate test set\n",
        "model_1.evaluate(x_test, y_test, verbose=2)"
      ],
      "execution_count": 25,
      "outputs": [
        {
          "output_type": "stream",
          "text": [
            "5000/1 - 0s - loss: 0.0536 - accuracy: 0.9694\n"
          ],
          "name": "stdout"
        },
        {
          "output_type": "execute_result",
          "data": {
            "text/plain": [
              "[0.1025629066169262, 0.9694]"
            ]
          },
          "metadata": {
            "tags": []
          },
          "execution_count": 25
        }
      ]
    },
    {
      "cell_type": "code",
      "metadata": {
        "id": "VFzYbYEjOF0L",
        "colab_type": "code",
        "colab": {
          "base_uri": "https://localhost:8080/",
          "height": 573
        },
        "outputId": "a9dd3a0e-64ec-4ee6-ead2-1544d81b8bf9"
      },
      "source": [
        "plot_history(history_1, 5, 0.2)"
      ],
      "execution_count": 45,
      "outputs": [
        {
          "output_type": "display_data",
          "data": {
            "image/png": "[encoded data removed]",
            "text/plain": [
              "<Figure size 432x288 with 1 Axes>"
            ]
          },
          "metadata": {
            "tags": []
          }
        },
        {
          "output_type": "display_data",
          "data": {
            "image/png": "[encoded data removed]",
            "text/plain": [
              "<Figure size 432x288 with 1 Axes>"
            ]
          },
          "metadata": {
            "tags": []
          }
        }
      ]
    },
    {
      "cell_type": "markdown",
      "metadata": {
        "id": "kQhbA3w6Ux4_",
        "colab_type": "text"
      },
      "source": [
        "#### 10 Epochs / 0.2 Dropout"
      ]
    },
    {
      "cell_type": "code",
      "metadata": {
        "id": "mecPL9qTTlCi",
        "colab_type": "code",
        "colab": {
          "base_uri": "https://localhost:8080/",
          "height": 374
        },
        "outputId": "069faa03-5051-490d-f34c-adbb2d8c69de"
      },
      "source": [
        "# 10 epochs / 0.2 dropout\n",
        "model_2, history_2 = train_model(x_train,  y_train, x_val, y_val, 10, 0.2)"
      ],
      "execution_count": 27,
      "outputs": [
        {
          "output_type": "stream",
          "text": [
            "Train on 60000 samples, validate on 5000 samples\n",
            "Epoch 1/10\n",
            "60000/60000 [==============================] - 5s 77us/sample - loss: 0.2999 - accuracy: 0.9126 - val_loss: 0.0994 - val_accuracy: 0.9712\n",
            "Epoch 2/10\n",
            "60000/60000 [==============================] - 4s 71us/sample - loss: 0.1445 - accuracy: 0.9575 - val_loss: 0.0692 - val_accuracy: 0.9778\n",
            "Epoch 3/10\n",
            "60000/60000 [==============================] - 4s 71us/sample - loss: 0.1104 - accuracy: 0.9663 - val_loss: 0.0597 - val_accuracy: 0.9828\n",
            "Epoch 4/10\n",
            "60000/60000 [==============================] - 4s 72us/sample - loss: 0.0889 - accuracy: 0.9722 - val_loss: 0.0493 - val_accuracy: 0.9850\n",
            "Epoch 5/10\n",
            "60000/60000 [==============================] - 4s 71us/sample - loss: 0.0759 - accuracy: 0.9761 - val_loss: 0.0514 - val_accuracy: 0.9844\n",
            "Epoch 6/10\n",
            "60000/60000 [==============================] - 4s 71us/sample - loss: 0.0682 - accuracy: 0.9784 - val_loss: 0.0480 - val_accuracy: 0.9864\n",
            "Epoch 7/10\n",
            "60000/60000 [==============================] - 4s 72us/sample - loss: 0.0591 - accuracy: 0.9813 - val_loss: 0.0414 - val_accuracy: 0.9880\n",
            "Epoch 8/10\n",
            "60000/60000 [==============================] - 4s 73us/sample - loss: 0.0542 - accuracy: 0.9823 - val_loss: 0.0448 - val_accuracy: 0.9864\n",
            "Epoch 9/10\n",
            "60000/60000 [==============================] - 4s 72us/sample - loss: 0.0484 - accuracy: 0.9841 - val_loss: 0.0417 - val_accuracy: 0.9884\n",
            "Epoch 10/10\n",
            "60000/60000 [==============================] - 4s 71us/sample - loss: 0.0457 - accuracy: 0.9847 - val_loss: 0.0398 - val_accuracy: 0.9880\n"
          ],
          "name": "stdout"
        }
      ]
    },
    {
      "cell_type": "code",
      "metadata": {
        "id": "-87Tstc2TsIH",
        "colab_type": "code",
        "colab": {
          "base_uri": "https://localhost:8080/",
          "height": 51
        },
        "outputId": "616625c9-fb7e-47ea-ca3d-f8259eda0f03"
      },
      "source": [
        "# Evaluate train set\n",
        "model_2.evaluate(x_train,  y_train, verbose=2)"
      ],
      "execution_count": 28,
      "outputs": [
        {
          "output_type": "stream",
          "text": [
            "60000/1 - 3s - loss: 0.0092 - accuracy: 0.9950\n"
          ],
          "name": "stdout"
        },
        {
          "output_type": "execute_result",
          "data": {
            "text/plain": [
              "[0.01755460012103819, 0.9949667]"
            ]
          },
          "metadata": {
            "tags": []
          },
          "execution_count": 28
        }
      ]
    },
    {
      "cell_type": "code",
      "metadata": {
        "id": "wpprdt-hTug0",
        "colab_type": "code",
        "colab": {
          "base_uri": "https://localhost:8080/",
          "height": 51
        },
        "outputId": "3e3e0162-f9be-4574-8d36-a4f9448f56df"
      },
      "source": [
        "# Evaluate test set\n",
        "model_2.evaluate(x_test, y_test, verbose=2)"
      ],
      "execution_count": 29,
      "outputs": [
        {
          "output_type": "stream",
          "text": [
            "5000/1 - 0s - loss: 0.0857 - accuracy: 0.9706\n"
          ],
          "name": "stdout"
        },
        {
          "output_type": "execute_result",
          "data": {
            "text/plain": [
              "[0.10323447934612631, 0.9706]"
            ]
          },
          "metadata": {
            "tags": []
          },
          "execution_count": 29
        }
      ]
    },
    {
      "cell_type": "code",
      "metadata": {
        "id": "Wg3fqRA5Txye",
        "colab_type": "code",
        "colab": {
          "base_uri": "https://localhost:8080/",
          "height": 573
        },
        "outputId": "47b99b37-cd89-439f-aece-29472da42b6f"
      },
      "source": [
        "plot_history(history_2, 10, 0.2)"
      ],
      "execution_count": 47,
      "outputs": [
        {
          "output_type": "display_data",
          "data": {
            "image/png": "[encoded data removed]",
            "text/plain": [
              "<Figure size 432x288 with 1 Axes>"
            ]
          },
          "metadata": {
            "tags": []
          }
        },
        {
          "output_type": "display_data",
          "data": {
            "image/png": "[encoded data removed]",
            "text/plain": [
              "<Figure size 432x288 with 1 Axes>"
            ]
          },
          "metadata": {
            "tags": []
          }
        }
      ]
    },
    {
      "cell_type": "markdown",
      "metadata": {
        "id": "-WA04WlcVhs0",
        "colab_type": "text"
      },
      "source": [
        "#### 25 Epochs / 0.2 Dropout"
      ]
    },
    {
      "cell_type": "code",
      "metadata": {
        "id": "CDjv45RnVpvj",
        "colab_type": "code",
        "colab": {
          "base_uri": "https://localhost:8080/",
          "height": 884
        },
        "outputId": "d8f87012-958a-4e5b-8ceb-d15817436834"
      },
      "source": [
        "# 25 epochs / 0.2 dropout\n",
        "model_3, history_3 = train_model(x_train,  y_train, x_val, y_val, 25, 0.2)"
      ],
      "execution_count": 31,
      "outputs": [
        {
          "output_type": "stream",
          "text": [
            "Train on 60000 samples, validate on 5000 samples\n",
            "Epoch 1/25\n",
            "60000/60000 [==============================] - 5s 78us/sample - loss: 0.2981 - accuracy: 0.9129 - val_loss: 0.0958 - val_accuracy: 0.9732\n",
            "Epoch 2/25\n",
            "60000/60000 [==============================] - 4s 71us/sample - loss: 0.1466 - accuracy: 0.9567 - val_loss: 0.0745 - val_accuracy: 0.9772\n",
            "Epoch 3/25\n",
            "60000/60000 [==============================] - 4s 71us/sample - loss: 0.1080 - accuracy: 0.9678 - val_loss: 0.0517 - val_accuracy: 0.9842\n",
            "Epoch 4/25\n",
            "60000/60000 [==============================] - 4s 74us/sample - loss: 0.0895 - accuracy: 0.9724 - val_loss: 0.0532 - val_accuracy: 0.9838\n",
            "Epoch 5/25\n",
            "60000/60000 [==============================] - 5s 75us/sample - loss: 0.0764 - accuracy: 0.9760 - val_loss: 0.0464 - val_accuracy: 0.9854\n",
            "Epoch 6/25\n",
            "60000/60000 [==============================] - 5s 77us/sample - loss: 0.0672 - accuracy: 0.9783 - val_loss: 0.0529 - val_accuracy: 0.9842\n",
            "Epoch 7/25\n",
            "60000/60000 [==============================] - 4s 72us/sample - loss: 0.0603 - accuracy: 0.9805 - val_loss: 0.0438 - val_accuracy: 0.9870\n",
            "Epoch 8/25\n",
            "60000/60000 [==============================] - 4s 72us/sample - loss: 0.0550 - accuracy: 0.9824 - val_loss: 0.0448 - val_accuracy: 0.9874\n",
            "Epoch 9/25\n",
            "60000/60000 [==============================] - 4s 72us/sample - loss: 0.0483 - accuracy: 0.9846 - val_loss: 0.0415 - val_accuracy: 0.9882\n",
            "Epoch 10/25\n",
            "60000/60000 [==============================] - 4s 70us/sample - loss: 0.0453 - accuracy: 0.9844 - val_loss: 0.0460 - val_accuracy: 0.9860\n",
            "Epoch 11/25\n",
            "60000/60000 [==============================] - 4s 72us/sample - loss: 0.0409 - accuracy: 0.9864 - val_loss: 0.0416 - val_accuracy: 0.9888\n",
            "Epoch 12/25\n",
            "60000/60000 [==============================] - 4s 71us/sample - loss: 0.0386 - accuracy: 0.9865 - val_loss: 0.0439 - val_accuracy: 0.9876\n",
            "Epoch 13/25\n",
            "60000/60000 [==============================] - 4s 70us/sample - loss: 0.0351 - accuracy: 0.9880 - val_loss: 0.0434 - val_accuracy: 0.9882\n",
            "Epoch 14/25\n",
            "60000/60000 [==============================] - 4s 72us/sample - loss: 0.0360 - accuracy: 0.9879 - val_loss: 0.0438 - val_accuracy: 0.9890\n",
            "Epoch 15/25\n",
            "60000/60000 [==============================] - 4s 70us/sample - loss: 0.0330 - accuracy: 0.9887 - val_loss: 0.0451 - val_accuracy: 0.9886\n",
            "Epoch 16/25\n",
            "60000/60000 [==============================] - 4s 72us/sample - loss: 0.0315 - accuracy: 0.9895 - val_loss: 0.0419 - val_accuracy: 0.9890\n",
            "Epoch 17/25\n",
            "60000/60000 [==============================] - 4s 71us/sample - loss: 0.0310 - accuracy: 0.9895 - val_loss: 0.0486 - val_accuracy: 0.9880\n",
            "Epoch 18/25\n",
            "60000/60000 [==============================] - 4s 72us/sample - loss: 0.0281 - accuracy: 0.9903 - val_loss: 0.0470 - val_accuracy: 0.9882\n",
            "Epoch 19/25\n",
            "60000/60000 [==============================] - 4s 70us/sample - loss: 0.0268 - accuracy: 0.9904 - val_loss: 0.0523 - val_accuracy: 0.9878\n",
            "Epoch 20/25\n",
            "60000/60000 [==============================] - 4s 69us/sample - loss: 0.0271 - accuracy: 0.9908 - val_loss: 0.0529 - val_accuracy: 0.9876\n",
            "Epoch 21/25\n",
            "60000/60000 [==============================] - 4s 71us/sample - loss: 0.0287 - accuracy: 0.9900 - val_loss: 0.0548 - val_accuracy: 0.9890\n",
            "Epoch 22/25\n",
            "60000/60000 [==============================] - 4s 71us/sample - loss: 0.0255 - accuracy: 0.9910 - val_loss: 0.0593 - val_accuracy: 0.9870\n",
            "Epoch 23/25\n",
            "60000/60000 [==============================] - 4s 72us/sample - loss: 0.0256 - accuracy: 0.9910 - val_loss: 0.0485 - val_accuracy: 0.9892\n",
            "Epoch 24/25\n",
            "60000/60000 [==============================] - 4s 71us/sample - loss: 0.0233 - accuracy: 0.9921 - val_loss: 0.0477 - val_accuracy: 0.9900\n",
            "Epoch 25/25\n",
            "60000/60000 [==============================] - 4s 71us/sample - loss: 0.0215 - accuracy: 0.9928 - val_loss: 0.0505 - val_accuracy: 0.9878\n"
          ],
          "name": "stdout"
        }
      ]
    },
    {
      "cell_type": "code",
      "metadata": {
        "id": "RAsilLDbVtxU",
        "colab_type": "code",
        "colab": {
          "base_uri": "https://localhost:8080/",
          "height": 51
        },
        "outputId": "8d27b449-9488-4f82-8221-70f1a2bb186c"
      },
      "source": [
        "# Evaluate train set\n",
        "model_3.evaluate(x_train,  y_train, verbose=2)"
      ],
      "execution_count": 32,
      "outputs": [
        {
          "output_type": "stream",
          "text": [
            "60000/1 - 3s - loss: 0.0034 - accuracy: 0.9982\n"
          ],
          "name": "stdout"
        },
        {
          "output_type": "execute_result",
          "data": {
            "text/plain": [
              "[0.006017755950784825, 0.9982167]"
            ]
          },
          "metadata": {
            "tags": []
          },
          "execution_count": 32
        }
      ]
    },
    {
      "cell_type": "code",
      "metadata": {
        "id": "jpibZJHCVyT4",
        "colab_type": "code",
        "colab": {
          "base_uri": "https://localhost:8080/",
          "height": 51
        },
        "outputId": "5b4be36f-d7f6-4c76-bf1f-7d1c8ef1a47c"
      },
      "source": [
        "# Evaluate test set\n",
        "model_3.evaluate(x_test, y_test, verbose=2)"
      ],
      "execution_count": 33,
      "outputs": [
        {
          "output_type": "stream",
          "text": [
            "5000/1 - 0s - loss: 0.0644 - accuracy: 0.9744\n"
          ],
          "name": "stdout"
        },
        {
          "output_type": "execute_result",
          "data": {
            "text/plain": [
              "[0.12649114832123742, 0.9744]"
            ]
          },
          "metadata": {
            "tags": []
          },
          "execution_count": 33
        }
      ]
    },
    {
      "cell_type": "code",
      "metadata": {
        "id": "QxE0eIH5Vtgg",
        "colab_type": "code",
        "colab": {
          "base_uri": "https://localhost:8080/",
          "height": 573
        },
        "outputId": "5366b793-fca6-47d9-9775-2f6389a3e63e"
      },
      "source": [
        "plot_history(history_3, 25, 0.2)"
      ],
      "execution_count": 48,
      "outputs": [
        {
          "output_type": "display_data",
          "data": {
            "image/png": "[encoded data removed]",
            "text/plain": [
              "<Figure size 432x288 with 1 Axes>"
            ]
          },
          "metadata": {
            "tags": []
          }
        },
        {
          "output_type": "display_data",
          "data": {
            "image/png": "[encoded data removed]",
            "text/plain": [
              "<Figure size 432x288 with 1 Axes>"
            ]
          },
          "metadata": {
            "tags": []
          }
        }
      ]
    },
    {
      "cell_type": "markdown",
      "metadata": {
        "id": "_pr5jUe0X-tl",
        "colab_type": "text"
      },
      "source": [
        "### Play with dropout rate using 10 epochs\n",
        "\n",
        "#### 0.1 dropout"
      ]
    },
    {
      "cell_type": "code",
      "metadata": {
        "id": "bRNEAvoIX5Ei",
        "colab_type": "code",
        "colab": {
          "base_uri": "https://localhost:8080/",
          "height": 374
        },
        "outputId": "c35c6271-fb19-440a-8a3c-bca2ce48ed52"
      },
      "source": [
        "# 10 epochs / 0.1 dropout\n",
        "model_4, history_4 = train_model(x_train,  y_train, x_val, y_val, 10, 0.1)"
      ],
      "execution_count": 35,
      "outputs": [
        {
          "output_type": "stream",
          "text": [
            "Train on 60000 samples, validate on 5000 samples\n",
            "Epoch 1/10\n",
            "60000/60000 [==============================] - 5s 76us/sample - loss: 0.2800 - accuracy: 0.9190 - val_loss: 0.0992 - val_accuracy: 0.9724\n",
            "Epoch 2/10\n",
            "60000/60000 [==============================] - 4s 73us/sample - loss: 0.1318 - accuracy: 0.9606 - val_loss: 0.0685 - val_accuracy: 0.9794\n",
            "Epoch 3/10\n",
            "60000/60000 [==============================] - 4s 71us/sample - loss: 0.0932 - accuracy: 0.9712 - val_loss: 0.0565 - val_accuracy: 0.9848\n",
            "Epoch 4/10\n",
            "60000/60000 [==============================] - 4s 72us/sample - loss: 0.0741 - accuracy: 0.9767 - val_loss: 0.0518 - val_accuracy: 0.9858\n",
            "Epoch 5/10\n",
            "60000/60000 [==============================] - 4s 71us/sample - loss: 0.0604 - accuracy: 0.9817 - val_loss: 0.0501 - val_accuracy: 0.9840\n",
            "Epoch 6/10\n",
            "60000/60000 [==============================] - 4s 73us/sample - loss: 0.0517 - accuracy: 0.9837 - val_loss: 0.0393 - val_accuracy: 0.9882\n",
            "Epoch 7/10\n",
            "60000/60000 [==============================] - 4s 72us/sample - loss: 0.0423 - accuracy: 0.9869 - val_loss: 0.0449 - val_accuracy: 0.9878\n",
            "Epoch 8/10\n",
            "60000/60000 [==============================] - 4s 71us/sample - loss: 0.0377 - accuracy: 0.9874 - val_loss: 0.0412 - val_accuracy: 0.9882\n",
            "Epoch 9/10\n",
            "60000/60000 [==============================] - 4s 72us/sample - loss: 0.0354 - accuracy: 0.9886 - val_loss: 0.0385 - val_accuracy: 0.9882\n",
            "Epoch 10/10\n",
            "60000/60000 [==============================] - 4s 71us/sample - loss: 0.0297 - accuracy: 0.9901 - val_loss: 0.0406 - val_accuracy: 0.9898\n"
          ],
          "name": "stdout"
        }
      ]
    },
    {
      "cell_type": "code",
      "metadata": {
        "id": "ZKVVbENWYPtf",
        "colab_type": "code",
        "colab": {
          "base_uri": "https://localhost:8080/",
          "height": 51
        },
        "outputId": "5a9be1f7-6b99-4021-dfc2-3f94ced5d7cc"
      },
      "source": [
        "# Evaluate train set\n",
        "model_4.evaluate(x_train,  y_train, verbose=2)"
      ],
      "execution_count": 36,
      "outputs": [
        {
          "output_type": "stream",
          "text": [
            "60000/1 - 3s - loss: 0.0073 - accuracy: 0.9966\n"
          ],
          "name": "stdout"
        },
        {
          "output_type": "execute_result",
          "data": {
            "text/plain": [
              "[0.012840053477561257, 0.99663335]"
            ]
          },
          "metadata": {
            "tags": []
          },
          "execution_count": 36
        }
      ]
    },
    {
      "cell_type": "code",
      "metadata": {
        "id": "KpHG1NN2YPm8",
        "colab_type": "code",
        "colab": {
          "base_uri": "https://localhost:8080/",
          "height": 51
        },
        "outputId": "8d292527-e748-4fa5-dc34-a77264f3e1a1"
      },
      "source": [
        "# Evaluate test set\n",
        "model_4.evaluate(x_test, y_test, verbose=2)"
      ],
      "execution_count": 37,
      "outputs": [
        {
          "output_type": "stream",
          "text": [
            "5000/1 - 0s - loss: 0.0626 - accuracy: 0.9738\n"
          ],
          "name": "stdout"
        },
        {
          "output_type": "execute_result",
          "data": {
            "text/plain": [
              "[0.09024288346618414, 0.9738]"
            ]
          },
          "metadata": {
            "tags": []
          },
          "execution_count": 37
        }
      ]
    },
    {
      "cell_type": "code",
      "metadata": {
        "id": "rG1kk4jFYPgl",
        "colab_type": "code",
        "colab": {
          "base_uri": "https://localhost:8080/",
          "height": 573
        },
        "outputId": "dd298be7-dfcc-4dc6-e905-95743c36cd2b"
      },
      "source": [
        "plot_history(history_4, 10, 0.1)"
      ],
      "execution_count": 49,
      "outputs": [
        {
          "output_type": "display_data",
          "data": {
            "image/png": "[encoded data removed]",
            "text/plain": [
              "<Figure size 432x288 with 1 Axes>"
            ]
          },
          "metadata": {
            "tags": []
          }
        },
        {
          "output_type": "display_data",
          "data": {
            "image/png": "[encoded data removed]",
            "text/plain": [
              "<Figure size 432x288 with 1 Axes>"
            ]
          },
          "metadata": {
            "tags": []
          }
        }
      ]
    },
    {
      "cell_type": "markdown",
      "metadata": {
        "id": "xKNPNyVKYogF",
        "colab_type": "text"
      },
      "source": [
        "#### 0.3 dropout"
      ]
    },
    {
      "cell_type": "code",
      "metadata": {
        "id": "1sRxj787YqCF",
        "colab_type": "code",
        "colab": {
          "base_uri": "https://localhost:8080/",
          "height": 374
        },
        "outputId": "fb2581f6-b1b9-421f-9d96-eefedcb62355"
      },
      "source": [
        "# 10 epochs / 0.3 dropout\n",
        "model_5, history_5 = train_model(x_train,  y_train, x_val, y_val, 10, 0.3)"
      ],
      "execution_count": 39,
      "outputs": [
        {
          "output_type": "stream",
          "text": [
            "Train on 60000 samples, validate on 5000 samples\n",
            "Epoch 1/10\n",
            "60000/60000 [==============================] - 5s 79us/sample - loss: 0.3202 - accuracy: 0.9061 - val_loss: 0.1023 - val_accuracy: 0.9702\n",
            "Epoch 2/10\n",
            "60000/60000 [==============================] - 4s 71us/sample - loss: 0.1626 - accuracy: 0.9516 - val_loss: 0.0725 - val_accuracy: 0.9794\n",
            "Epoch 3/10\n",
            "60000/60000 [==============================] - 4s 72us/sample - loss: 0.1267 - accuracy: 0.9616 - val_loss: 0.0554 - val_accuracy: 0.9836\n",
            "Epoch 4/10\n",
            "60000/60000 [==============================] - 4s 71us/sample - loss: 0.1078 - accuracy: 0.9668 - val_loss: 0.0567 - val_accuracy: 0.9842\n",
            "Epoch 5/10\n",
            "60000/60000 [==============================] - 4s 71us/sample - loss: 0.0923 - accuracy: 0.9718 - val_loss: 0.0556 - val_accuracy: 0.9838\n",
            "Epoch 6/10\n",
            "60000/60000 [==============================] - 4s 71us/sample - loss: 0.0850 - accuracy: 0.9733 - val_loss: 0.0504 - val_accuracy: 0.9840\n",
            "Epoch 7/10\n",
            "60000/60000 [==============================] - 4s 71us/sample - loss: 0.0768 - accuracy: 0.9750 - val_loss: 0.0457 - val_accuracy: 0.9876\n",
            "Epoch 8/10\n",
            "60000/60000 [==============================] - 4s 72us/sample - loss: 0.0708 - accuracy: 0.9773 - val_loss: 0.0482 - val_accuracy: 0.9862\n",
            "Epoch 9/10\n",
            "60000/60000 [==============================] - 4s 71us/sample - loss: 0.0668 - accuracy: 0.9786 - val_loss: 0.0438 - val_accuracy: 0.9892\n",
            "Epoch 10/10\n",
            "60000/60000 [==============================] - 4s 72us/sample - loss: 0.0610 - accuracy: 0.9802 - val_loss: 0.0473 - val_accuracy: 0.9878\n"
          ],
          "name": "stdout"
        }
      ]
    },
    {
      "cell_type": "code",
      "metadata": {
        "id": "lEu9yLwXYp61",
        "colab_type": "code",
        "colab": {
          "base_uri": "https://localhost:8080/",
          "height": 51
        },
        "outputId": "91bba83b-670b-49d8-d0e6-640bfb7e8c89"
      },
      "source": [
        "# Evaluate train set\n",
        "model_5.evaluate(x_train,  y_train, verbose=2)"
      ],
      "execution_count": 40,
      "outputs": [
        {
          "output_type": "stream",
          "text": [
            "60000/1 - 3s - loss: 0.0156 - accuracy: 0.9925\n"
          ],
          "name": "stdout"
        },
        {
          "output_type": "execute_result",
          "data": {
            "text/plain": [
              "[0.025167855013441296, 0.9925]"
            ]
          },
          "metadata": {
            "tags": []
          },
          "execution_count": 40
        }
      ]
    },
    {
      "cell_type": "code",
      "metadata": {
        "id": "9iANpf7dYpys",
        "colab_type": "code",
        "colab": {
          "base_uri": "https://localhost:8080/",
          "height": 51
        },
        "outputId": "49a6e13b-95e9-47e1-ecca-e0043c893136"
      },
      "source": [
        "# Evaluate test set\n",
        "model_5.evaluate(x_test, y_test, verbose=2)"
      ],
      "execution_count": 41,
      "outputs": [
        {
          "output_type": "stream",
          "text": [
            "5000/1 - 0s - loss: 0.0802 - accuracy: 0.9714\n"
          ],
          "name": "stdout"
        },
        {
          "output_type": "execute_result",
          "data": {
            "text/plain": [
              "[0.10305614827796816, 0.9714]"
            ]
          },
          "metadata": {
            "tags": []
          },
          "execution_count": 41
        }
      ]
    },
    {
      "cell_type": "code",
      "metadata": {
        "id": "HCM0OWziYpGp",
        "colab_type": "code",
        "colab": {
          "base_uri": "https://localhost:8080/",
          "height": 573
        },
        "outputId": "6fa60a1f-a90d-421e-c9a3-91a7546340c5"
      },
      "source": [
        "plot_history(history_5, 10, 0.3)"
      ],
      "execution_count": 50,
      "outputs": [
        {
          "output_type": "display_data",
          "data": {
            "image/png": "[encoded data removed]",
            "text/plain": [
              "<Figure size 432x288 with 1 Axes>"
            ]
          },
          "metadata": {
            "tags": []
          }
        },
        {
          "output_type": "display_data",
          "data": {
            "image/png": "[encoded data removed]",
            "text/plain": [
              "<Figure size 432x288 with 1 Axes>"
            ]
          },
          "metadata": {
            "tags": []
          }
        }
      ]
    },
    {
      "cell_type": "markdown",
      "metadata": {
        "id": "Mo4HoXgKYRai",
        "colab_type": "text"
      },
      "source": [
        "## Creating and Configuring our Model\n",
        "\n",
        "We're create a few variables that can be used to store important model parameters and hyper parameters for modification layer on."
      ]
    },
    {
      "cell_type": "code",
      "metadata": {
        "id": "cXvucgRVYasr",
        "colab_type": "code",
        "colab": {}
      },
      "source": [
        "num_epochs = 10\n",
        "dropout_rate = 0.2"
      ],
      "execution_count": 0,
      "outputs": []
    },
    {
      "cell_type": "markdown",
      "metadata": {
        "id": "x4zlR04_Yf1A",
        "colab_type": "text"
      },
      "source": [
        "Now, we will create our fully connected neural network model. This isn't a convolutional model, but a fully connected model, and as you'll see it is quite simple - with only a few layers, and approximately 100,000 trainable parameters. \n"
      ]
    },
    {
      "cell_type": "code",
      "metadata": {
        "id": "de4CRcVlHVhf",
        "colab_type": "code",
        "colab": {}
      },
      "source": [
        "model = tf.keras.models.Sequential([\n",
        "  # our input layer will take 28x28 images, and \"flatten\" them to 784x1\n",
        "  tf.keras.layers.Flatten(input_shape=(28, 28), name=\"flatten\"), \n",
        "\n",
        "  # next, we'll have a densely connected layer using ReLU as its activation function\n",
        "  tf.keras.layers.Dense(128, activation='relu', name=\"fc_with_ReLU\"), \n",
        "\n",
        "  # we'll add some dropout, which is a form of regularisation - \n",
        "  # you can experiment with removing this and seeing what difference it makes\n",
        "  tf.keras.layers.Dropout(dropout_rate, name=\"dropout\"), \n",
        "\n",
        "  # finally, a densely connected layer with softmax as a classifier\n",
        "  tf.keras.layers.Dense(10, activation='softmax', name=\"fc_softmax_classifier\")\n",
        "])\n"
      ],
      "execution_count": 0,
      "outputs": []
    },
    {
      "cell_type": "markdown",
      "metadata": {
        "id": "cpOb2bMBQyBP",
        "colab_type": "text"
      },
      "source": [
        "You can find out more about the types of layers supported in the Keras API at https://keras.io/layers/core/\n",
        "\n",
        "Let's have a quick look at the model we just created..."
      ]
    },
    {
      "cell_type": "code",
      "metadata": {
        "id": "e6-mVOBFQ0LH",
        "colab_type": "code",
        "outputId": "1025433f-c941-41ab-d9ed-5d42d195f8ec",
        "colab": {
          "base_uri": "https://localhost:8080/",
          "height": 772
        }
      },
      "source": [
        "print(model.summary(), '\\n')\n",
        "\n",
        "tf.keras.utils.plot_model(model)\n"
      ],
      "execution_count": 70,
      "outputs": [
        {
          "output_type": "stream",
          "text": [
            "Model: \"sequential_9\"\n",
            "_________________________________________________________________\n",
            "Layer (type)                 Output Shape              Param #   \n",
            "=================================================================\n",
            "flatten (Flatten)            (None, 784)               0         \n",
            "_________________________________________________________________\n",
            "fc_with_ReLU (Dense)         (None, 128)               100480    \n",
            "_________________________________________________________________\n",
            "dropout (Dropout)            (None, 128)               0         \n",
            "_________________________________________________________________\n",
            "fc_softmax_classifier (Dense (None, 10)                1290      \n",
            "=================================================================\n",
            "Total params: 101,770\n",
            "Trainable params: 101,770\n",
            "Non-trainable params: 0\n",
            "_________________________________________________________________\n",
            "None \n",
            "\n"
          ],
          "name": "stdout"
        },
        {
          "output_type": "execute_result",
          "data": {
            "image/png": "[encoded data removed]",
            "text/plain": [
              "<IPython.core.display.Image object>"
            ]
          },
          "metadata": {
            "tags": []
          },
          "execution_count": 70
        }
      ]
    },
    {
      "cell_type": "markdown",
      "metadata": {
        "id": "bupzYhxCQ1Dl",
        "colab_type": "text"
      },
      "source": [
        "## Training our Model\n",
        "\n",
        "Okay, now time to compile the model, and to training it.\n",
        "\n",
        "Compiling, in Keras, configures the model for training - it defines the loss function, the optimizer and metrics. \n",
        "\n",
        "It doesn't affect or modify the weights, and you can compile a model as often as you want without affecting pretrained weights.\n"
      ]
    },
    {
      "cell_type": "code",
      "metadata": {
        "id": "tN2Q8zCvHbp2",
        "colab_type": "code",
        "colab": {}
      },
      "source": [
        "model.compile(optimizer='adam',\n",
        "              loss='sparse_categorical_crossentropy',\n",
        "              metrics=['accuracy'])"
      ],
      "execution_count": 0,
      "outputs": []
    },
    {
      "cell_type": "markdown",
      "metadata": {
        "id": "j1RauElzUBO4",
        "colab_type": "text"
      },
      "source": [
        "Just before we training our model (\"fit\" it to our data), it will be initialised with random weights. Let's see how it performs against our training data *before* we train it..."
      ]
    },
    {
      "cell_type": "code",
      "metadata": {
        "id": "NFQs4OMKUITk",
        "colab_type": "code",
        "outputId": "4f65aacf-16ff-4226-a2cb-7336f9d387c0",
        "colab": {
          "base_uri": "https://localhost:8080/",
          "height": 51
        }
      },
      "source": [
        "model.evaluate(x_train,  y_train, verbose=2)"
      ],
      "execution_count": 72,
      "outputs": [
        {
          "output_type": "stream",
          "text": [
            "60000/1 - 3s - loss: 2.3340 - accuracy: 0.0911\n"
          ],
          "name": "stdout"
        },
        {
          "output_type": "execute_result",
          "data": {
            "text/plain": [
              "[2.345836410140991, 0.09111667]"
            ]
          },
          "metadata": {
            "tags": []
          },
          "execution_count": 72
        }
      ]
    },
    {
      "cell_type": "markdown",
      "metadata": {
        "id": "1Y0Ua1ZkUL0P",
        "colab_type": "text"
      },
      "source": [
        "Not terribly impressive - but that is just from random weight assigments. Let's now optimize our weights to improve our prediction score against our training data and see what happens."
      ]
    },
    {
      "cell_type": "code",
      "metadata": {
        "id": "hNvWzT8RHeUP",
        "colab_type": "code",
        "outputId": "6955ee1c-37ad-4223-e8dc-912375d49f70",
        "colab": {
          "base_uri": "https://localhost:8080/",
          "height": 374
        }
      },
      "source": [
        "history = model.fit(x_train, y_train, validation_data = (x_val, y_val), epochs=num_epochs, shuffle=True)"
      ],
      "execution_count": 73,
      "outputs": [
        {
          "output_type": "stream",
          "text": [
            "Train on 60000 samples, validate on 5000 samples\n",
            "Epoch 1/10\n",
            "60000/60000 [==============================] - 5s 78us/sample - loss: 0.2944 - accuracy: 0.9129 - val_loss: 0.1013 - val_accuracy: 0.9710\n",
            "Epoch 2/10\n",
            "60000/60000 [==============================] - 4s 74us/sample - loss: 0.1427 - accuracy: 0.9578 - val_loss: 0.0684 - val_accuracy: 0.9810\n",
            "Epoch 3/10\n",
            "60000/60000 [==============================] - 4s 74us/sample - loss: 0.1054 - accuracy: 0.9679 - val_loss: 0.0561 - val_accuracy: 0.9828\n",
            "Epoch 4/10\n",
            "60000/60000 [==============================] - 4s 74us/sample - loss: 0.0857 - accuracy: 0.9732 - val_loss: 0.0525 - val_accuracy: 0.9842\n",
            "Epoch 5/10\n",
            "60000/60000 [==============================] - 4s 75us/sample - loss: 0.0748 - accuracy: 0.9767 - val_loss: 0.0464 - val_accuracy: 0.9852\n",
            "Epoch 6/10\n",
            "60000/60000 [==============================] - 4s 73us/sample - loss: 0.0647 - accuracy: 0.9797 - val_loss: 0.0472 - val_accuracy: 0.9852\n",
            "Epoch 7/10\n",
            "60000/60000 [==============================] - 4s 73us/sample - loss: 0.0571 - accuracy: 0.9816 - val_loss: 0.0419 - val_accuracy: 0.9884\n",
            "Epoch 8/10\n",
            "60000/60000 [==============================] - 4s 74us/sample - loss: 0.0516 - accuracy: 0.9831 - val_loss: 0.0388 - val_accuracy: 0.9878\n",
            "Epoch 9/10\n",
            "60000/60000 [==============================] - 4s 74us/sample - loss: 0.0470 - accuracy: 0.9843 - val_loss: 0.0410 - val_accuracy: 0.9876\n",
            "Epoch 10/10\n",
            "60000/60000 [==============================] - 4s 74us/sample - loss: 0.0449 - accuracy: 0.9850 - val_loss: 0.0398 - val_accuracy: 0.9888\n"
          ],
          "name": "stdout"
        }
      ]
    },
    {
      "cell_type": "markdown",
      "metadata": {
        "id": "9b5z0DZFslTe",
        "colab_type": "text"
      },
      "source": [
        "In the dictionary variable `history`, we have a record of the training and validation set "
      ]
    },
    {
      "cell_type": "code",
      "metadata": {
        "id": "yFlP82BzsGkZ",
        "colab_type": "code",
        "outputId": "17d7caa9-baa0-4034-d0c2-69738641cc8d",
        "colab": {
          "base_uri": "https://localhost:8080/",
          "height": 34
        }
      },
      "source": [
        "print(history.history.keys())"
      ],
      "execution_count": 74,
      "outputs": [
        {
          "output_type": "stream",
          "text": [
            "dict_keys(['loss', 'accuracy', 'val_loss', 'val_accuracy'])\n"
          ],
          "name": "stdout"
        }
      ]
    },
    {
      "cell_type": "markdown",
      "metadata": {
        "id": "UWcxLyN2SnGr",
        "colab_type": "text"
      },
      "source": [
        "# Evaluating the Performance of our Trained Model against our Validation Set\n",
        "\n",
        "Okay, let's now see how well our trained model works on our validation set."
      ]
    },
    {
      "cell_type": "code",
      "metadata": {
        "id": "chlg2_6RSnXy",
        "colab_type": "code",
        "outputId": "7e8e895b-03fd-4f05-9b04-9eec2e48945e",
        "colab": {
          "base_uri": "https://localhost:8080/",
          "height": 51
        }
      },
      "source": [
        "model.evaluate(x_val,  y_val, verbose=2)"
      ],
      "execution_count": 75,
      "outputs": [
        {
          "output_type": "stream",
          "text": [
            "5000/1 - 0s - loss: 0.0200 - accuracy: 0.9888\n"
          ],
          "name": "stdout"
        },
        {
          "output_type": "execute_result",
          "data": {
            "text/plain": [
              "[0.03984953454448842, 0.9888]"
            ]
          },
          "metadata": {
            "tags": []
          },
          "execution_count": 75
        }
      ]
    },
    {
      "cell_type": "markdown",
      "metadata": {
        "id": "56kXvh0sbJWZ",
        "colab_type": "text"
      },
      "source": [
        "At this point, consider going back and changing the `num_epochs` from 5 to, say, 25 and repeating the exercise.  Does our model look like it is overfitting at any point?\n",
        "\n",
        "Or changing the `dropout_rate` from 0.2 to, say, 0.1 or 0.3."
      ]
    },
    {
      "cell_type": "markdown",
      "metadata": {
        "id": "cRLWymupbdTP",
        "colab_type": "text"
      },
      "source": [
        "## Evaluating the Performance against our Test Set\n",
        "\n",
        "We reserved our test set to better understand the impact our training and hyper parameter experiments had in generalising to unseen data. We can now evaluate our performance against our test set.\n",
        "\n",
        "We can evaluate our model against our test set and get a figure for overall accuracy."
      ]
    },
    {
      "cell_type": "code",
      "metadata": {
        "id": "AgbG5eugbLBI",
        "colab_type": "code",
        "outputId": "1260ba4d-6a9f-4b8c-f6fb-1b4bd5fa74d8",
        "colab": {
          "base_uri": "https://localhost:8080/",
          "height": 51
        }
      },
      "source": [
        "model.evaluate(x_test, y_test, verbose=2)\n"
      ],
      "execution_count": 76,
      "outputs": [
        {
          "output_type": "stream",
          "text": [
            "5000/1 - 0s - loss: 0.0551 - accuracy: 0.9698\n"
          ],
          "name": "stdout"
        },
        {
          "output_type": "execute_result",
          "data": {
            "text/plain": [
              "[0.09801349985376, 0.9698]"
            ]
          },
          "metadata": {
            "tags": []
          },
          "execution_count": 76
        }
      ]
    },
    {
      "cell_type": "markdown",
      "metadata": {
        "id": "Q8V-ASaluBh0",
        "colab_type": "text"
      },
      "source": [
        "\n",
        "We can also plot our history from training, and view our training curves - that is, the record of our training set accuracy/loss vs our test set accuracy/loss per epoch."
      ]
    },
    {
      "cell_type": "code",
      "metadata": {
        "id": "G7BaqD6buBvK",
        "colab_type": "code",
        "colab": {
          "base_uri": "https://localhost:8080/",
          "height": 573
        },
        "outputId": "8ea1fb39-b322-40f3-da0b-a9a90979cd3a"
      },
      "source": [
        "plt.plot(history.history['accuracy'])\n",
        "plt.plot(history.history['val_accuracy'])\n",
        "plt.title('Model Accuracy')\n",
        "plt.ylabel('accuracy')\n",
        "plt.xlabel('epoch')\n",
        "plt.legend(['train', 'test'])\n",
        "plt.show()\n",
        "\n",
        "plt.plot(history.history['loss'])\n",
        "plt.plot(history.history['val_loss'])\n",
        "plt.title('Model Loss')\n",
        "plt.ylabel('loss')\n",
        "plt.xlabel('epoch')\n",
        "plt.legend(['train', 'test'])\n",
        "plt.show()"
      ],
      "execution_count": 77,
      "outputs": [
        {
          "output_type": "display_data",
          "data": {
            "image/png": "[encoded data removed]",
            "text/plain": [
              "<Figure size 432x288 with 1 Axes>"
            ]
          },
          "metadata": {
            "tags": []
          }
        },
        {
          "output_type": "display_data",
          "data": {
            "image/png": "[encoded data removed]",
            "text/plain": [
              "<Figure size 432x288 with 1 Axes>"
            ]
          },
          "metadata": {
            "tags": []
          }
        }
      ]
    },
    {
      "cell_type": "markdown",
      "metadata": {
        "id": "4l_yPXXDbQN4",
        "colab_type": "text"
      },
      "source": [
        "And we can use `model.predict()` to make new predictions for any unseen data."
      ]
    },
    {
      "cell_type": "code",
      "metadata": {
        "id": "SL9JeouhQJTH",
        "colab_type": "code",
        "outputId": "be1434f7-18eb-41e3-f7f9-dd52f939b956",
        "colab": {
          "base_uri": "https://localhost:8080/",
          "height": 333
        }
      },
      "source": [
        "exemplar_index = 0\n",
        "\n",
        "plt.imshow(x_val[exemplar_index])\n",
        "\n",
        "predictions = model.predict(x_val)\n",
        "\n",
        "print(\"For item %d, our prediction scores across all classes (\\\"0\\\" through \\\"9\\\") are %s\\n\" \n",
        "      % (exemplar_index, np.array_str(predictions[exemplar_index])))\n",
        "\n",
        "#\n",
        "# We're going to select the column corresponding to the highest prediction\n",
        "# np.amax picks the highest value in an array, and np.where identifies the column\n",
        "guess = np.where(predictions[exemplar_index] == np.amax(predictions[exemplar_index]))\n",
        "# the shape of guess from the previous operation is a 1x1 array, so we need to \n",
        "# convert this to a scalar\n",
        "guess = np.squeeze(guess, axis=(0,1)).item()\n",
        "\n",
        "print(\"Our best prediction is %d, and the ground truth is %d.\" \n",
        "      % (guess, y_val[exemplar_index]))"
      ],
      "execution_count": 78,
      "outputs": [
        {
          "output_type": "stream",
          "text": [
            "For item 0, our prediction scores across all classes (\"0\" through \"9\") are [7.8215412e-10 1.3409735e-08 2.3531577e-05 9.9996006e-01 6.0251963e-11\n",
            " 1.3733913e-05 2.2906818e-12 4.6499854e-10 2.7672227e-06 4.1972673e-10]\n",
            "\n",
            "Our best prediction is 3, and the ground truth is 3.\n"
          ],
          "name": "stdout"
        },
        {
          "output_type": "display_data",
          "data": {
            "image/png": "[encoded data removed]",
            "text/plain": [
              "<Figure size 432x288 with 1 Axes>"
            ]
          },
          "metadata": {
            "tags": []
          }
        }
      ]
    },
    {
      "cell_type": "markdown",
      "metadata": {
        "id": "Pz4OuMLmU049",
        "colab_type": "text"
      },
      "source": [
        "\n",
        "\n",
        "# Experiments \n",
        "\n",
        "1. If you haven't already, try changing `num_epochs` above from 5 to, say, 25 and re-training and re-evaluating.  Can you see the different in accuracy for training for longer? Does our model look like it is overfitting at any point?\n",
        "\n",
        "2. Try changing the `dropout_rate` from 0.2 to, say, 0.1 or 0.3. What is the effect?\n",
        "\n",
        "3. Try commenting out the dropout layer entirely from our model definition above, and re-running. Can you see the impact of the dropout layer in our performance on the test data? \n",
        "\n",
        "\n",
        "    # tf.keras.layers.Dropout(dropout_rate, name=\"dropout\"), # we'll add some dropout\n",
        "\n",
        "4. Try scanning some of your own handwriting for a digit, and storing it as 28x28 pixel image. Then load the image, and perform a prediction on it. The following code will allow you to upload it to Colab and run a prediction on it... (**Note:** somethings `file.upload()` method can be flakey - if you get an error along the lines of `MessageError: TypeError: Cannot read property '_uploadFiles' of undefined`, run the following cell again...)\n",
        "\n"
      ]
    },
    {
      "cell_type": "code",
      "metadata": {
        "id": "_9dW71_4rUX2",
        "colab_type": "code",
        "outputId": "c9a40456-1922-4a41-a5bd-066f74026558",
        "colab": {
          "resources": {
            "http://localhost:8080/nbextensions/google.colab/files.js": {
              "data": "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",
              "ok": true,
              "headers": [
                [
                  "content-type",
                  "application/javascript"
                ]
              ],
              "status": 200,
              "status_text": ""
            }
          },
          "base_uri": "https://localhost:8080/",
          "height": 404
        }
      },
      "source": [
        "# upload an image file\n",
        "from google.colab import files\n",
        "\n",
        "uploaded_image = None\n",
        "\n",
        "uploaded_image = files.upload()\n",
        "\n",
        "import io\n",
        "import cv2\n",
        "\n",
        "if (uploaded_image != {}):\n",
        "  # convert the uploaded image data into an OpenCV grayscale inverted image,\n",
        "  # 28x28, as used by the MNIST data\n",
        "  image_stream = io.BytesIO(uploaded_image[list(uploaded_image.keys())[0]])                        \n",
        "  image = cv2.imdecode(np.frombuffer(image_stream.read(), np.uint8),1)\n",
        "  image = cv2.cvtColor(np.array(image), cv2.COLOR_RGB2GRAY)\n",
        "  image = cv2.bitwise_not(image) # invert image\n",
        "  image = cv2.resize(image, (28,28))\n",
        "\n",
        "  plt.imshow(image)\n",
        "\n",
        "  # now, we're rescale our image from 0-255 to 0.0-1.0, and reshape it as an\n",
        "  # array for input into model.predict\n",
        "  model_input = image/255.0\n",
        "  model_input = np.reshape(model_input, (1, 28, 28))\n",
        "  predictions = model.predict(model_input)\n",
        "\n",
        "  # finally, we'll print out all our prediction scores and\n",
        "  # our best guess for the digit\n",
        "  print(\"Our prediction scores across all classes (\\\"0\\\" through \\\"9\\\") are %s\\n\" \n",
        "      % (np.array_str(predictions[0])))\n",
        "  guess = np.where(predictions[0] == np.amax(predictions[0]))\n",
        "  guess = np.squeeze(guess, axis=(0,1)).item()\n",
        "  print(\"Our best prediction is %d\" % (guess))\n",
        "else:\n",
        "  print(\"An image was not successfully uploaded - try again!\")"
      ],
      "execution_count": 84,
      "outputs": [
        {
          "output_type": "display_data",
          "data": {
            "text/html": [
              "\n",
              "     <input type=\"file\" id=\"files-b1792e74-4f21-4943-bb0c-5a83be4d593b\" name=\"files[]\" multiple disabled />\n",
              "     <output id=\"result-b1792e74-4f21-4943-bb0c-5a83be4d593b\">\n",
              "      Upload widget is only available when the cell has been executed in the\n",
              "      current browser session. Please rerun this cell to enable.\n",
              "      </output>\n",
              "      <script src=\"/nbextensions/google.colab/files.js\"></script> "
            ],
            "text/plain": [
              "<IPython.core.display.HTML object>"
            ]
          },
          "metadata": {
            "tags": []
          }
        },
        {
          "output_type": "stream",
          "text": [
            "Saving d4_2.jpg to d4_2 (2).jpg\n",
            "Our prediction scores across all classes (\"0\" through \"9\") are [1.74416914e-06 1.19413221e-06 1.20581179e-04 1.40594522e-04\n",
            " 8.77366483e-01 1.82699529e-04 2.46688840e-03 6.64553279e-03\n",
            " 1.54137088e-03 1.11532934e-01]\n",
            "\n",
            "Our best prediction is 4\n"
          ],
          "name": "stdout"
        },
        {
          "output_type": "display_data",
          "data": {
            "image/png": "[encoded data removed]",
            "text/plain": [
              "<Figure size 432x288 with 1 Axes>"
            ]
          },
          "metadata": {
            "tags": []
          }
        }
      ]
    },
    {
      "cell_type": "code",
      "metadata": {
        "id": "RyIHP2aQkv3h",
        "colab_type": "code",
        "colab": {}
      },
      "source": [
        ""
      ],
      "execution_count": 0,
      "outputs": []
    },
    {
      "cell_type": "code",
      "metadata": {
        "id": "RZYXa98NfWzy",
        "colab_type": "code",
        "colab": {}
      },
      "source": [
        ""
      ],
      "execution_count": 0,
      "outputs": []
    }
  ]
}